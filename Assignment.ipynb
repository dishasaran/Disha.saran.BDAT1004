{
 "cells": [
  {
   "cell_type": "code",
   "execution_count": 1,
   "id": "b5463618",
   "metadata": {},
   "outputs": [
    {
     "name": "stdout",
     "output_type": "stream",
     "text": [
      "5\n",
      "5\n",
      "True\n",
      "5\n",
      "10\n",
      "52\n",
      "2\n",
      "1\n",
      "5\n",
      "2\n",
      "1\n",
      "False\n",
      "2.54\n"
     ]
    }
   ],
   "source": [
    "//Question 1//\n",
    "int a = 5;\n",
    "Console.WriteLine(a);\n",
    "double b = 5.0;\n",
    "Console.WriteLine(b);\n",
    "bool c = 5 > 1;\n",
    "Console.WriteLine(c);\n",
    "String d = \"5\";\n",
    "Console.WriteLine(d);\n",
    "int e = 2;\n",
    "//\"5\"* 2 is not valid expression however we can convert string to int and then apply the arithmetc operation//\n",
    "int f = Int16.Parse(\"5\");\n",
    "int g = f*2;\n",
    "Console.WriteLine(g);\n",
    "String h = \"2\";\n",
    "String i = d + h;\n",
    "Console.WriteLine(i);\n",
    "int j = 5/2;\n",
    "Console.WriteLine(j);\n",
    "int k = 5%2;\n",
    "Console.WriteLine(k);\n",
    "int[] l = {5, 2, 1};\n",
    "Console.WriteLine(l[0]);\n",
    "Console.WriteLine(l[1]);\n",
    "Console.WriteLine(l[2]);\n",
    "int m = 5;\n",
    "int n = 3;\n",
    "bool o = (m==n);\n",
    "Console.WriteLine(o);\n",
    "double p = 2.54;\n",
    "Console.WriteLine(p);\n"
   ]
  },
  {
   "cell_type": "code",
   "execution_count": 2,
   "id": "27c3c8ff",
   "metadata": {},
   "outputs": [
    {
     "name": "stdout",
     "output_type": "stream",
     "text": [
      "The Length of string is 34\n",
      "The Substring ice is present at 18\n",
      "Supercalifragilisticexpialidocious is longest\n",
      "Bartok\n",
      "Bellini\n",
      "Berlioz\n",
      "Bernstein\n",
      "Borodin\n",
      "Brian\n",
      "Buxtehude\n"
     ]
    }
   ],
   "source": [
    "//Question 2//\n",
    "//a//\n",
    "string a = \"Supercalifragilisticexpialidocious\";\n",
    "int l = a.Length;\n",
    "Console.Write(\"The Length of string is \");\n",
    "Console.WriteLine(l);\n",
    "\n",
    "//b//\n",
    "int index = a.IndexOf(\"ice\");\n",
    "String b = a.Substring(index);\n",
    "Console.Write(\"The Substring ice is present at \");\n",
    "Console.WriteLine(index);\n",
    "\n",
    "//c//\n",
    "String c = \"Honorificabilitudinitatibus\";\n",
    "String d = \"Bababadalgharaghtakamminarronnkonn\";\n",
    "\n",
    "int e = a.Length;\n",
    "int f = b.Length;\n",
    "int g = c.Length;\n",
    "\n",
    "if((e>f)||(e>g))\n",
    "{\n",
    "  Console.WriteLine(\"Supercalifragilisticexpialidocious is longest\");\n",
    "}\n",
    "else if(f>g)\n",
    "{\n",
    "    Console.WriteLine(\"Honorificabilitudinitatibus is longest\");\n",
    "}\n",
    "else\n",
    "{\n",
    "     Console.WriteLine(\"Bababadalgharaghtakamminarronnkonn is longest\");\n",
    "    \n",
    "}\n",
    "//c//\n",
    "String[] names = {\"Berlioz\", \"Borodin\", \"Brian\", \"Bartok\", \"Bellini\", \"Buxtehude\", \"Bernstein\"};\n",
    "Array.Sort(names);\n",
    "foreach(string k in names)\n",
    "{\n",
    "    Console.WriteLine(k);\n",
    "}\n"
   ]
  },
  {
   "cell_type": "code",
   "execution_count": 6,
   "id": "5a36a1a6",
   "metadata": {},
   "outputs": [],
   "source": [
    "//Question 3 - There are no errors hoowever it is not giving output but it is running fine is Visio 2022// \n",
    "static void Main()\n",
    "        {\n",
    "            static double trainglearea(int a, int b, int c)\n",
    "            {\n",
    "                double s;\n",
    "                double area;\n",
    "                s = (a + b + c) / 2;\n",
    "                area = Math.Sqrt(s * ((s - a) * (s - b) * (s - c)));\n",
    "                return area;\n",
    "            }\n",
    "     \n",
    "    Console.WriteLine(trainglearea(2, 2, 2));\n",
    "     \n",
    "     \n",
    "         \n",
    " }"
   ]
  },
  {
   "cell_type": "code",
   "execution_count": 9,
   "id": "2d4ddb55",
   "metadata": {},
   "outputs": [
    {
     "name": "stdout",
     "output_type": "stream",
     "text": [
      "It is odd 25\n",
      "It is odd 47\n",
      "It is even 42\n",
      "It is even 56\n",
      "It is even 32\n"
     ]
    }
   ],
   "source": [
    "//Question 4//\n",
    "int[] odev = {25, 47, 42, 56, 32};\n",
    "foreach(int i in odev)\n",
    "{\n",
    "    if(i%2 == 0)\n",
    "    {\n",
    "        \n",
    "        Console.Write(\"It is even \");\n",
    "        Console.WriteLine(i);\n",
    "    }\n",
    "    else\n",
    "    {\n",
    "         Console.Write(\"It is odd \");\n",
    "         Console.WriteLine(i);\n",
    "    }\n",
    "}"
   ]
  },
  {
   "cell_type": "code",
   "execution_count": 5,
   "id": "43d562f8",
   "metadata": {},
   "outputs": [],
   "source": [
    "//Question 5 There are no errors hoowever it is not giving output but it is running fine is Visio 2022//\n",
    "//a & b//\n",
    "\n",
    "static void Main()\n",
    "{    \n",
    "    \n",
    "    static bool inside(double x, double y, double x1, double y1, double x2, double y2)\n",
    "    {\n",
    "         \n",
    "        if(((x>x1)&(y>y1))&((x<x2)&(y<y2)))\n",
    "        {\n",
    "            Console.WriteLine(\"Points lie Inside\");\n",
    "        \n",
    "            return true;\n",
    "        }\n",
    "        else\n",
    "        {\n",
    "            Console.WriteLine(\"Points lie outside\");\n",
    "            return false;\n",
    "        }\n",
    "        return true;\n",
    "        return false;\n",
    "    }\n",
    "    \n",
    "     \n",
    "    Console.WriteLine(inside(1,1,0,0,2,3));\n",
    "    Console.WriteLine(inside(-1,-1,0,0,2,3));\n",
    "     Console.WriteLine(inside(1,1,0.3,0.5,1.1,2.7));\n",
    "     Console.WriteLine(inside(1,1,0.5,0.2,1.1,2));\n",
    "}\n",
    "\n",
    "\n",
    "\n"
   ]
  },
  {
   "cell_type": "code",
   "execution_count": null,
   "id": "54380d36",
   "metadata": {},
   "outputs": [],
   "source": []
  },
  {
   "cell_type": "code",
   "execution_count": null,
   "id": "218596f4",
   "metadata": {},
   "outputs": [],
   "source": []
  },
  {
   "cell_type": "code",
   "execution_count": null,
   "id": "c17b6470",
   "metadata": {},
   "outputs": [],
   "source": []
  }
 ],
 "metadata": {
  "kernelspec": {
   "display_name": ".NET (C#)",
   "language": "C#",
   "name": ".net-csharp"
  },
  "language_info": {
   "file_extension": ".cs",
   "mimetype": "text/x-csharp",
   "name": "C#",
   "pygments_lexer": "csharp",
   "version": "8.0"
  }
 },
 "nbformat": 4,
 "nbformat_minor": 5
}
