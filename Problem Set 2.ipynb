{
 "cells": [
  {
   "cell_type": "markdown",
   "id": "f8db0c3c",
   "metadata": {},
   "source": [
    "                                                Problem Set 2"
   ]
  },
  {
   "cell_type": "markdown",
   "id": "16623cbd",
   "metadata": {},
   "source": [
    "Question 1: As a is global theregore it can be called in any function so when it is printed in function b(), its value increases as function c is called and the value is stored in a "
   ]
  },
  {
   "cell_type": "code",
   "execution_count": 22,
   "id": "e959f228",
   "metadata": {},
   "outputs": [
    {
     "name": "stdout",
     "output_type": "stream",
     "text": [
      "2\n",
      "4\n",
      "6\n"
     ]
    },
    {
     "data": {
      "text/plain": [
       "6"
      ]
     },
     "execution_count": 22,
     "metadata": {},
     "output_type": "execute_result"
    }
   ],
   "source": [
    "a = 0\n",
    "def b():\n",
    "    global a\n",
    "    a = c(a)\n",
    "    print(a)\n",
    "    \n",
    "def c(a):\n",
    "    return a + 2\n",
    "\n",
    "b()\n",
    "b()\n",
    "b()\n",
    "a"
   ]
  },
  {
   "cell_type": "markdown",
   "id": "90c5d2e4",
   "metadata": {},
   "source": [
    "Question 2:"
   ]
  },
  {
   "cell_type": "code",
   "execution_count": 3,
   "id": "ac007866",
   "metadata": {},
   "outputs": [
    {
     "name": "stdout",
     "output_type": "stream",
     "text": [
      "File name is invalid\n",
      "File name is invalid\n"
     ]
    }
   ],
   "source": [
    "def filelength(filename):\n",
    "    try:\n",
    "        f = open(filename)\n",
    "        print(\"The length of file is:\")\n",
    "        print(len(f.read()))\n",
    "    except:\n",
    "        print(\"File name is invalid\")\n",
    "    \n",
    "\n",
    "filelength(\"test.txt\")\n",
    "filelength(\"currenies.txt\")"
   ]
  },
  {
   "cell_type": "markdown",
   "id": "21b97f1e",
   "metadata": {},
   "source": [
    "Question 3:"
   ]
  },
  {
   "cell_type": "code",
   "execution_count": 1,
   "id": "4b3f77a9",
   "metadata": {},
   "outputs": [
    {
     "name": "stdout",
     "output_type": "stream",
     "text": [
      "I am a Kangaroo located at  coordinates (0,0)\n",
      "['Doll', 'Firetruck', 'Kitten']\n",
      "I am a Kangaroo located at  coordinates (3,0)\n"
     ]
    }
   ],
   "source": [
    "class Marsupial:\n",
    "    def __init__(self):\n",
    "        self.toys = []\n",
    "    def put_in_pouch(self, toy):\n",
    "        self.toys.append(toy)\n",
    "    def pouch_content(self):\n",
    "        return self.toys\n",
    "    \n",
    "class Kangaroo(Marsupial):\n",
    "    def __init__(self, xcord, ycord):\n",
    "        Marsupial.__init__(self)\n",
    "        self.x = xcord\n",
    "        self.y = ycord \n",
    "           \n",
    "    def jump(self, dx, dy):\n",
    "        self.x += dx\n",
    "        self.y += dy\n",
    "    def __str__(self):\n",
    "        return 'I am a Kangaroo located at  coordinates ({},{})'.format(self.x,self.y)\n",
    "\n",
    "        \n",
    "k = Kangaroo(0,0)\n",
    "print(k)\n",
    "k.put_in_pouch(\"Doll\")\n",
    "k.put_in_pouch(\"Firetruck\")\n",
    "k.put_in_pouch(\"Kitten\")\n",
    "print(k.pouch_content())\n",
    "k.jump(1,0)\n",
    "k.jump(1,0)\n",
    "k.jump(1,0)\n",
    "print(k)\n",
    "\n"
   ]
  },
  {
   "cell_type": "markdown",
   "id": "e46b6924",
   "metadata": {},
   "source": [
    "Question 4:"
   ]
  },
  {
   "cell_type": "code",
   "execution_count": 1,
   "id": "39c9a650",
   "metadata": {},
   "outputs": [
    {
     "name": "stdout",
     "output_type": "stream",
     "text": [
      "10\n",
      "5\n",
      "16\n",
      "8\n",
      "8\n",
      "4\n",
      "4\n",
      "2\n",
      "2\n",
      "1\n",
      "1\n"
     ]
    }
   ],
   "source": [
    "\n",
    "def collatz(n):\n",
    "    if n == 1:\n",
    "        print(1)\n",
    "    elif (n%2 == 0):\n",
    "        print(int(n))\n",
    "        n /= 2\n",
    "        print(int(n))\n",
    "        collatz(int(n))\n",
    "    else:\n",
    "        n *= 3\n",
    "        n += 1\n",
    "        collatz(int(n))\n",
    "        \n",
    "        \n",
    "collatz(10)"
   ]
  },
  {
   "cell_type": "markdown",
   "id": "7b984685",
   "metadata": {},
   "source": [
    "Question 5:"
   ]
  },
  {
   "cell_type": "code",
   "execution_count": 4,
   "id": "89fa8f44",
   "metadata": {},
   "outputs": [
    {
     "name": "stdout",
     "output_type": "stream",
     "text": [
      "[1]\n",
      "[0]\n",
      "[0]\n",
      "[1]\n"
     ]
    }
   ],
   "source": [
    "def binary(n):\n",
    "    if n == 0 or n == 1:\n",
    "        print(n)\n",
    "    else:\n",
    "        while n > 1:\n",
    "            bnry = []            \n",
    "            r = n%2\n",
    "            n /=2\n",
    "            bnry.append(int(r))\n",
    "            print(bnry)\n",
    "            \n",
    "\n",
    "binary(9)"
   ]
  },
  {
   "cell_type": "markdown",
   "id": "31edc6cb",
   "metadata": {},
   "source": [
    "Question 6: "
   ]
  },
  {
   "cell_type": "code",
   "execution_count": 4,
   "id": "23fd8758",
   "metadata": {},
   "outputs": [
    {
     "name": "stdout",
     "output_type": "stream",
     "text": [
      "W3C Mission\n",
      " Principles\n"
     ]
    }
   ],
   "source": [
    "from html.parser import HTMLParser\n",
    " \n",
    "class HeadingParser(HTMLParser):\n",
    "    checkHeader = False\n",
    "    indentNo = 0\n",
    "    \n",
    "    def handle_starttag(self, t, attrs):\n",
    "        if t == \"h1\":\n",
    "            self.checkHeader = True\n",
    "            self.indentNo = 0\n",
    "        elif t == \"h2\":\n",
    "            self.checkHeader = True\n",
    "            self.indentNo = 1\n",
    "        elif t == \"h3\":\n",
    "            self.checkHeader = True\n",
    "            self.indentNo = 2\n",
    "        elif t == \"h4\":\n",
    "            self.checkHeader = True\n",
    "            self.indentNo = 3\n",
    "        elif t == \"h5\":\n",
    "            self.checkHeader = True\n",
    "            self.indentNo = 4\n",
    "        elif t == \"h6\":\n",
    "            self.checkHeader = True\n",
    "            self.indentNo = 5\n",
    "        else:\n",
    "            self.checkHeader = False\n",
    "            self.indentNo = 0\n",
    " \n",
    "    def handle_data(self, data):\n",
    "        if self.checkHeader:\n",
    "            space = \" \"*self.indentNo\n",
    "            print(\"%s%s\" % (space, data))\n",
    " \n",
    "    def handle_endtag(self, t):\n",
    "        if t in [\"h1\", \"h2\", \"h3\", \"h4\", \"h5\", \"h6\"]:\n",
    "            self.checkHeader = False\n",
    " \n",
    " \n",
    "infile = open(\"w3c.html\")\n",
    "content = infile.read()\n",
    "infile.close()\n",
    "hp = HeadingParser()\n",
    "hp.feed(content)"
   ]
  },
  {
   "cell_type": "markdown",
   "id": "457b02a4",
   "metadata": {},
   "source": [
    "Question 7"
   ]
  },
  {
   "cell_type": "code",
   "execution_count": 8,
   "id": "351dea11",
   "metadata": {
    "scrolled": true
   },
   "outputs": [
    {
     "ename": "NameError",
     "evalue": "name 'Beautifulsoup' is not defined",
     "output_type": "error",
     "traceback": [
      "\u001b[1;31m---------------------------------------------------------------------------\u001b[0m",
      "\u001b[1;31mNameError\u001b[0m                                 Traceback (most recent call last)",
      "Input \u001b[1;32mIn [8]\u001b[0m, in \u001b[0;36m<cell line: 16>\u001b[1;34m()\u001b[0m\n\u001b[0;32m     13\u001b[0m                 urls\u001b[38;5;241m.\u001b[39mappend(site) \n\u001b[0;32m     14\u001b[0m                 \u001b[38;5;28mprint\u001b[39m(site)\n\u001b[1;32m---> 16\u001b[0m \u001b[43mwebdir\u001b[49m\u001b[43m(\u001b[49m\u001b[38;5;124;43m'\u001b[39;49m\u001b[38;5;124;43mhttp://reed.cs.depaul.edu/lperkovic/csc242/test1.html\u001b[39;49m\u001b[38;5;124;43m'\u001b[39;49m\u001b[43m)\u001b[49m\n",
      "Input \u001b[1;32mIn [8]\u001b[0m, in \u001b[0;36mwebdir\u001b[1;34m(site)\u001b[0m\n\u001b[0;32m      5\u001b[0m \u001b[38;5;28;01mdef\u001b[39;00m \u001b[38;5;21mwebdir\u001b[39m(site):\n\u001b[0;32m      6\u001b[0m     r \u001b[38;5;241m=\u001b[39m requests\u001b[38;5;241m.\u001b[39mget(site)\n\u001b[1;32m----> 7\u001b[0m     s \u001b[38;5;241m=\u001b[39m \u001b[43mBeautifulsoup\u001b[49m(r\u001b[38;5;241m.\u001b[39mtext, \u001b[38;5;124m\"\u001b[39m\u001b[38;5;124mhtml.parser\u001b[39m\u001b[38;5;124m\"\u001b[39m)\n\u001b[0;32m      8\u001b[0m     \u001b[38;5;28;01mfor\u001b[39;00m i \u001b[38;5;129;01min\u001b[39;00m s\u001b[38;5;241m.\u001b[39mfind_all(\u001b[38;5;124m\"\u001b[39m\u001b[38;5;124ma\u001b[39m\u001b[38;5;124m\"\u001b[39m):\n\u001b[0;32m      9\u001b[0m         href \u001b[38;5;241m=\u001b[39m i\u001b[38;5;241m.\u001b[39mattrs[\u001b[38;5;124m'\u001b[39m\u001b[38;5;124mhref\u001b[39m\u001b[38;5;124m'\u001b[39m]\n",
      "\u001b[1;31mNameError\u001b[0m: name 'Beautifulsoup' is not defined"
     ]
    }
   ],
   "source": [
    "from bs4 import BeautifulSoup\n",
    "import requests\n",
    "\n",
    "urls = []\n",
    "def webdir(site):\n",
    "    r = requests.get(site)\n",
    "    s = Beautifulsoup(r.text, \"html.parser\")\n",
    "    for i in s.find_all(\"a\"):\n",
    "        href = i.attrs['href']\n",
    "        if href.startswith(\"/\"):\n",
    "            site = site+href\n",
    "            if site not in  urls:\n",
    "                urls.append(site) \n",
    "                print(site)\n",
    "\n",
    "webdir('http://reed.cs.depaul.edu/lperkovic/csc242/test1.html')"
   ]
  },
  {
   "cell_type": "markdown",
   "id": "b6d03954",
   "metadata": {},
   "source": [
    "Question 8"
   ]
  },
  {
   "cell_type": "code",
   "execution_count": 10,
   "id": "19b58289",
   "metadata": {},
   "outputs": [
    {
     "data": {
      "text/plain": [
       "<sqlite3.Cursor at 0x19d90925810>"
      ]
     },
     "execution_count": 10,
     "metadata": {},
     "output_type": "execute_result"
    }
   ],
   "source": [
    "import sqlite3 as sql\n",
    "con = sql.connect('web.db')\n",
    "cur = con.cursor()\n",
    "\n",
    "cur.execute(\"CREATE TABLE RAIN(City text, Country text, Season text, Temprature float, Rainfall float)\")"
   ]
  },
  {
   "cell_type": "code",
   "execution_count": 13,
   "id": "0e622553",
   "metadata": {},
   "outputs": [
    {
     "data": {
      "text/plain": [
       "<sqlite3.Cursor at 0x19d90925810>"
      ]
     },
     "execution_count": 13,
     "metadata": {},
     "output_type": "execute_result"
    }
   ],
   "source": [
    "cur.execute(\"INSERT INTO RAIN VALUES('Mumbai', 'India', 'Winter', 24.8, 5.9)\")\n",
    "cur.execute(\"INSERT INTO RAIN VALUES('Mumbai', 'India', 'Spring', 28.4, 16.2)\")\n",
    "cur.execute(\"INSERT INTO RAIN VALUES('Mumbai', 'India', 'Summer', 27.9, 1549.4)\")\n",
    "cur.execute(\"INSERT INTO RAIN VALUES('Mumbai', 'India', 'Fall', 27.6, 346.0)\")\n",
    "cur.execute(\"INSERT INTO RAIN VALUES('London', 'UK', 'Winter', 4.2, 207.7)\")\n",
    "cur.execute(\"INSERT INTO RAIN VALUES('London', 'UK', 'Spring', 8.3, 169.6)\")\n",
    "cur.execute(\"INSERT INTO RAIN VALUES('London', 'UK', 'Summer', 15.7, 157.0)\")\n",
    "cur.execute(\"INSERT INTO RAIN VALUES('London', 'UK', 'Fall', 10.4, 218.5)\")\n",
    "cur.execute(\"INSERT INTO RAIN VALUES('Cairo', 'Egypt', 'Winter', 13.6, 16.5)\")\n",
    "cur.execute(\"INSERT INTO RAIN VALUES('Cairo', 'Egypt', 'Spring', 20.7, 6.5)\")\n",
    "cur.execute(\"INSERT INTO RAIN VALUES('Cairo', 'Egypt', 'Summer', 27.7, 0.1)\")\n",
    "cur.execute(\"INSERT INTO RAIN VALUES('Cairo', 'Egypt', 'Fall', 22.2, 5.5)\")"
   ]
  },
  {
   "cell_type": "markdown",
   "id": "1621e471",
   "metadata": {},
   "source": [
    "Question 8 a"
   ]
  },
  {
   "cell_type": "code",
   "execution_count": 14,
   "id": "cafaa3ac",
   "metadata": {},
   "outputs": [
    {
     "data": {
      "text/plain": [
       "<sqlite3.Cursor at 0x19d90925810>"
      ]
     },
     "execution_count": 14,
     "metadata": {},
     "output_type": "execute_result"
    }
   ],
   "source": [
    "cur.execute(\"SELECT Temprature FROM RAIN\")"
   ]
  },
  {
   "cell_type": "code",
   "execution_count": 15,
   "id": "5e1576b3",
   "metadata": {},
   "outputs": [
    {
     "data": {
      "text/plain": [
       "[(24.8,),\n",
       " (28.4,),\n",
       " (27.9,),\n",
       " (27.6,),\n",
       " (4.2,),\n",
       " (8.3,),\n",
       " (15.7,),\n",
       " (10.4,),\n",
       " (13.6,),\n",
       " (20.7,),\n",
       " (27.7,),\n",
       " (22.2,)]"
      ]
     },
     "execution_count": 15,
     "metadata": {},
     "output_type": "execute_result"
    }
   ],
   "source": [
    "cur.fetchall()"
   ]
  },
  {
   "cell_type": "markdown",
   "id": "b8b00889",
   "metadata": {},
   "source": [
    "Question 8 b"
   ]
  },
  {
   "cell_type": "code",
   "execution_count": 18,
   "id": "5a31ae2c",
   "metadata": {},
   "outputs": [
    {
     "data": {
      "text/plain": [
       "<sqlite3.Cursor at 0x19d90925810>"
      ]
     },
     "execution_count": 18,
     "metadata": {},
     "output_type": "execute_result"
    }
   ],
   "source": [
    "cur.execute(\"SELECT DISTINCT City FROM RAIN\")"
   ]
  },
  {
   "cell_type": "code",
   "execution_count": 19,
   "id": "9fff3fe8",
   "metadata": {},
   "outputs": [
    {
     "data": {
      "text/plain": [
       "[('Mumbai',), ('London',), ('Cairo',)]"
      ]
     },
     "execution_count": 19,
     "metadata": {},
     "output_type": "execute_result"
    }
   ],
   "source": [
    "cur.fetchall()"
   ]
  },
  {
   "cell_type": "markdown",
   "id": "dcfa8c4d",
   "metadata": {},
   "source": [
    "Question 8 c"
   ]
  },
  {
   "cell_type": "code",
   "execution_count": 22,
   "id": "2fe78eab",
   "metadata": {},
   "outputs": [
    {
     "data": {
      "text/plain": [
       "<sqlite3.Cursor at 0x19d90925810>"
      ]
     },
     "execution_count": 22,
     "metadata": {},
     "output_type": "execute_result"
    }
   ],
   "source": [
    "cur.execute(\"SELECT * FROM RAIN where Country = 'India'\")"
   ]
  },
  {
   "cell_type": "code",
   "execution_count": 23,
   "id": "1e1b6754",
   "metadata": {},
   "outputs": [
    {
     "data": {
      "text/plain": [
       "[('Mumbai', 'India', 'Winter', 24.8, 5.9),\n",
       " ('Mumbai', 'India', 'Spring', 28.4, 16.2),\n",
       " ('Mumbai', 'India', 'Summer', 27.9, 1549.4),\n",
       " ('Mumbai', 'India', 'Fall', 27.6, 346.0)]"
      ]
     },
     "execution_count": 23,
     "metadata": {},
     "output_type": "execute_result"
    }
   ],
   "source": [
    "cur.fetchall()"
   ]
  },
  {
   "cell_type": "markdown",
   "id": "d160834b",
   "metadata": {},
   "source": [
    "Question 8 d"
   ]
  },
  {
   "cell_type": "code",
   "execution_count": 24,
   "id": "80ab357b",
   "metadata": {},
   "outputs": [
    {
     "data": {
      "text/plain": [
       "<sqlite3.Cursor at 0x19d90925810>"
      ]
     },
     "execution_count": 24,
     "metadata": {},
     "output_type": "execute_result"
    }
   ],
   "source": [
    "cur.execute(\"SELECT * FROM RAIN where Season = 'Fall'\")"
   ]
  },
  {
   "cell_type": "code",
   "execution_count": 25,
   "id": "7eb4e4b0",
   "metadata": {},
   "outputs": [
    {
     "data": {
      "text/plain": [
       "[('Mumbai', 'India', 'Fall', 27.6, 346.0),\n",
       " ('London', 'UK', 'Fall', 10.4, 218.5),\n",
       " ('Cairo', 'Egypt', 'Fall', 22.2, 5.5)]"
      ]
     },
     "execution_count": 25,
     "metadata": {},
     "output_type": "execute_result"
    }
   ],
   "source": [
    "cur.fetchall()"
   ]
  },
  {
   "cell_type": "markdown",
   "id": "ad1274b9",
   "metadata": {},
   "source": [
    "Question 8 e"
   ]
  },
  {
   "cell_type": "code",
   "execution_count": 26,
   "id": "73c17490",
   "metadata": {},
   "outputs": [
    {
     "data": {
      "text/plain": [
       "<sqlite3.Cursor at 0x19d90925810>"
      ]
     },
     "execution_count": 26,
     "metadata": {},
     "output_type": "execute_result"
    }
   ],
   "source": [
    "cur.execute(\"SELECT City, Country, Season FROM RAIN where Rainfall BETWEEN 200 AND 400\")"
   ]
  },
  {
   "cell_type": "code",
   "execution_count": 27,
   "id": "933ed43b",
   "metadata": {},
   "outputs": [
    {
     "data": {
      "text/plain": [
       "[('Mumbai', 'India', 'Fall'),\n",
       " ('London', 'UK', 'Winter'),\n",
       " ('London', 'UK', 'Fall')]"
      ]
     },
     "execution_count": 27,
     "metadata": {},
     "output_type": "execute_result"
    }
   ],
   "source": [
    "cur.fetchall()"
   ]
  },
  {
   "cell_type": "markdown",
   "id": "fdd5ca1a",
   "metadata": {},
   "source": [
    "Question 8 f"
   ]
  },
  {
   "cell_type": "code",
   "execution_count": 30,
   "id": "71baa180",
   "metadata": {},
   "outputs": [
    {
     "data": {
      "text/plain": [
       "<sqlite3.Cursor at 0x19d90925810>"
      ]
     },
     "execution_count": 30,
     "metadata": {},
     "output_type": "execute_result"
    }
   ],
   "source": [
    "cur.execute(\"SELECT City, Country FROM RAIN where Temprature > 20 AND Season = 'Fall' ORDER BY Temprature ASC\")"
   ]
  },
  {
   "cell_type": "code",
   "execution_count": 31,
   "id": "8ab6a38d",
   "metadata": {},
   "outputs": [
    {
     "data": {
      "text/plain": [
       "[('Cairo', 'Egypt'), ('Mumbai', 'India')]"
      ]
     },
     "execution_count": 31,
     "metadata": {},
     "output_type": "execute_result"
    }
   ],
   "source": [
    "cur.fetchall()"
   ]
  },
  {
   "cell_type": "markdown",
   "id": "371afc11",
   "metadata": {},
   "source": [
    "Question 8 g"
   ]
  },
  {
   "cell_type": "code",
   "execution_count": 75,
   "id": "da5d0968",
   "metadata": {},
   "outputs": [
    {
     "data": {
      "text/plain": [
       "<sqlite3.Cursor at 0x19d90925810>"
      ]
     },
     "execution_count": 75,
     "metadata": {},
     "output_type": "execute_result"
    }
   ],
   "source": [
    "cur.execute(\"SELECT Sum(Rainfall) FROM RAIN where City = 'Cairo'\")"
   ]
  },
  {
   "cell_type": "code",
   "execution_count": 76,
   "id": "ac68138d",
   "metadata": {},
   "outputs": [
    {
     "data": {
      "text/plain": [
       "[(27.6,)]"
      ]
     },
     "execution_count": 76,
     "metadata": {},
     "output_type": "execute_result"
    }
   ],
   "source": [
    "cur.fetchall()"
   ]
  },
  {
   "cell_type": "markdown",
   "id": "e51862a1",
   "metadata": {},
   "source": [
    "Question 8 h"
   ]
  },
  {
   "cell_type": "code",
   "execution_count": 87,
   "id": "a76fd18a",
   "metadata": {},
   "outputs": [
    {
     "data": {
      "text/plain": [
       "<sqlite3.Cursor at 0x19d90925810>"
      ]
     },
     "execution_count": 87,
     "metadata": {},
     "output_type": "execute_result"
    }
   ],
   "source": [
    "cur.execute(\"SELECT Sum(Rainfall), Season FROM RAIN GROUP BY Season ORDER BY Sum(Rainfall)\")"
   ]
  },
  {
   "cell_type": "code",
   "execution_count": 88,
   "id": "4a395b30",
   "metadata": {},
   "outputs": [
    {
     "data": {
      "text/plain": [
       "[(192.29999999999998, 'Spring'),\n",
       " (230.1, 'Winter'),\n",
       " (569.0, 'Fall'),\n",
       " (1706.5, 'Summer')]"
      ]
     },
     "execution_count": 88,
     "metadata": {},
     "output_type": "execute_result"
    }
   ],
   "source": [
    "cur.fetchall()"
   ]
  },
  {
   "cell_type": "markdown",
   "id": "25d575b1",
   "metadata": {},
   "source": [
    "Question 9"
   ]
  },
  {
   "cell_type": "code",
   "execution_count": 120,
   "id": "ff5779b6",
   "metadata": {},
   "outputs": [
    {
     "name": "stdout",
     "output_type": "stream",
     "text": [
      "['THE', 'QUICK', 'BROWN', 'FOX', 'JUMPS', 'OVER', 'THE', 'LAZY', 'DOG']\n",
      "['the', 'quick', 'brown', 'fox', 'jumps', 'over', 'the', 'lazy', 'dog']\n",
      "[3, 5, 5, 3, 5, 4, 3, 4, 3]\n",
      "[['THE', 'the', 3], ['QUICK', 'quick', 5], ['BROWN', 'brown', 5], ['FOX', 'fox', 3], ['JUMPS', 'jumps', 5], ['OVER', 'over', 4], ['THE', 'the', 3], ['LAZY', 'lazy', 4], ['DOG', 'dog', 3]]\n",
      "['quick', 'brown', 'jumps', 'over', 'lazy']\n"
     ]
    }
   ],
   "source": [
    "Word = ['The', 'quick', 'brown', 'fox', 'jumps', 'over', 'the', 'lazy', 'dog']\n",
    "l1 = [x.upper() for x in Word]\n",
    "l2 = [x.lower() for x in Word]\n",
    "l3 = [len(i) for i in Word]\n",
    "l4 = [[z.upper(), z.lower(), len(z)] for z in Word]\n",
    "l5 = [x.lower() for x in Word if len(x) >= 4]\n",
    "print(l1)\n",
    "print(l2)\n",
    "print(l3)\n",
    "print(l4)\n",
    "print(l5)"
   ]
  },
  {
   "cell_type": "code",
   "execution_count": null,
   "id": "bdd9e83f",
   "metadata": {},
   "outputs": [],
   "source": []
  }
 ],
 "metadata": {
  "kernelspec": {
   "display_name": "Python 3 (ipykernel)",
   "language": "python",
   "name": "python3"
  },
  "language_info": {
   "codemirror_mode": {
    "name": "ipython",
    "version": 3
   },
   "file_extension": ".py",
   "mimetype": "text/x-python",
   "name": "python",
   "nbconvert_exporter": "python",
   "pygments_lexer": "ipython3",
   "version": "3.9.12"
  }
 },
 "nbformat": 4,
 "nbformat_minor": 5
}
