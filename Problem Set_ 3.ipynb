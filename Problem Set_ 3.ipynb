{
 "cells": [
  {
   "cell_type": "markdown",
   "id": "64834c27",
   "metadata": {},
   "source": [
    "#                                            Problem Set : 3"
   ]
  },
  {
   "cell_type": "markdown",
   "id": "4e4a41f4",
   "metadata": {},
   "source": [
    "#Question 1:"
   ]
  },
  {
   "cell_type": "markdown",
   "id": "dd2b274c",
   "metadata": {},
   "source": [
    "Step 1:  Import the necessary libraries "
   ]
  },
  {
   "cell_type": "code",
   "execution_count": 90,
   "id": "84a9df2c",
   "metadata": {
    "scrolled": true
   },
   "outputs": [],
   "source": [
    "import pandas as pd"
   ]
  },
  {
   "cell_type": "markdown",
   "id": "25df5671",
   "metadata": {},
   "source": [
    "Step 2: Import the dataset from this address. \n",
    "Step 3: Assign it to a variable called users "
   ]
  },
  {
   "cell_type": "code",
   "execution_count": 91,
   "id": "52a1e797",
   "metadata": {},
   "outputs": [
    {
     "data": {
      "text/html": [
       "<div>\n",
       "<style scoped>\n",
       "    .dataframe tbody tr th:only-of-type {\n",
       "        vertical-align: middle;\n",
       "    }\n",
       "\n",
       "    .dataframe tbody tr th {\n",
       "        vertical-align: top;\n",
       "    }\n",
       "\n",
       "    .dataframe thead th {\n",
       "        text-align: right;\n",
       "    }\n",
       "</style>\n",
       "<table border=\"1\" class=\"dataframe\">\n",
       "  <thead>\n",
       "    <tr style=\"text-align: right;\">\n",
       "      <th></th>\n",
       "      <th>user_id</th>\n",
       "      <th>age</th>\n",
       "      <th>gender</th>\n",
       "      <th>occupation</th>\n",
       "      <th>zip_code</th>\n",
       "    </tr>\n",
       "  </thead>\n",
       "  <tbody>\n",
       "    <tr>\n",
       "      <th>0</th>\n",
       "      <td>1</td>\n",
       "      <td>24</td>\n",
       "      <td>M</td>\n",
       "      <td>technician</td>\n",
       "      <td>85711</td>\n",
       "    </tr>\n",
       "    <tr>\n",
       "      <th>1</th>\n",
       "      <td>2</td>\n",
       "      <td>53</td>\n",
       "      <td>F</td>\n",
       "      <td>other</td>\n",
       "      <td>94043</td>\n",
       "    </tr>\n",
       "    <tr>\n",
       "      <th>2</th>\n",
       "      <td>3</td>\n",
       "      <td>23</td>\n",
       "      <td>M</td>\n",
       "      <td>writer</td>\n",
       "      <td>32067</td>\n",
       "    </tr>\n",
       "    <tr>\n",
       "      <th>3</th>\n",
       "      <td>4</td>\n",
       "      <td>24</td>\n",
       "      <td>M</td>\n",
       "      <td>technician</td>\n",
       "      <td>43537</td>\n",
       "    </tr>\n",
       "    <tr>\n",
       "      <th>4</th>\n",
       "      <td>5</td>\n",
       "      <td>33</td>\n",
       "      <td>F</td>\n",
       "      <td>other</td>\n",
       "      <td>15213</td>\n",
       "    </tr>\n",
       "  </tbody>\n",
       "</table>\n",
       "</div>"
      ],
      "text/plain": [
       "   user_id  age gender  occupation zip_code\n",
       "0        1   24      M  technician    85711\n",
       "1        2   53      F       other    94043\n",
       "2        3   23      M      writer    32067\n",
       "3        4   24      M  technician    43537\n",
       "4        5   33      F       other    15213"
      ]
     },
     "execution_count": 91,
     "metadata": {},
     "output_type": "execute_result"
    }
   ],
   "source": [
    "users = pd.read_csv(r'https://raw.githubusercontent.com/justmarkham/DAT8/master/data/u.user', sep = '|')\n",
    "users.head()"
   ]
  },
  {
   "cell_type": "markdown",
   "id": "5539e9e3",
   "metadata": {},
   "source": [
    " Step 4: Discover what is the mean age per occupation "
   ]
  },
  {
   "cell_type": "code",
   "execution_count": 92,
   "id": "0e0728bf",
   "metadata": {},
   "outputs": [
    {
     "data": {
      "text/plain": [
       "occupation\n",
       "administrator    38.746835\n",
       "artist           31.392857\n",
       "doctor           43.571429\n",
       "educator         42.010526\n",
       "engineer         36.388060\n",
       "entertainment    29.222222\n",
       "executive        38.718750\n",
       "healthcare       41.562500\n",
       "homemaker        32.571429\n",
       "lawyer           36.750000\n",
       "librarian        40.000000\n",
       "marketing        37.615385\n",
       "none             26.555556\n",
       "other            34.523810\n",
       "programmer       33.121212\n",
       "retired          63.071429\n",
       "salesman         35.666667\n",
       "scientist        35.548387\n",
       "student          22.081633\n",
       "technician       33.148148\n",
       "writer           36.311111\n",
       "Name: age, dtype: float64"
      ]
     },
     "execution_count": 92,
     "metadata": {},
     "output_type": "execute_result"
    }
   ],
   "source": [
    "users.groupby('occupation').age.mean()"
   ]
  },
  {
   "cell_type": "code",
   "execution_count": 45,
   "id": "c86e90ab",
   "metadata": {},
   "outputs": [
    {
     "name": "stdout",
     "output_type": "stream",
     "text": [
      "occupation\n",
      "administrator    21\n",
      "artist           19\n",
      "doctor           28\n",
      "educator         23\n",
      "engineer         22\n",
      "entertainment    15\n",
      "executive        22\n",
      "healthcare       22\n",
      "homemaker        20\n",
      "lawyer           21\n",
      "librarian        23\n",
      "marketing        24\n",
      "none             11\n",
      "other            13\n",
      "programmer       20\n",
      "retired          51\n",
      "salesman         18\n",
      "scientist        23\n",
      "student           7\n",
      "technician       21\n",
      "writer           18\n",
      "Name: age, dtype: int64\n",
      "occupation\n",
      "administrator    70\n",
      "artist           48\n",
      "doctor           64\n",
      "educator         63\n",
      "engineer         70\n",
      "entertainment    50\n",
      "executive        69\n",
      "healthcare       62\n",
      "homemaker        50\n",
      "lawyer           53\n",
      "librarian        69\n",
      "marketing        55\n",
      "none             55\n",
      "other            64\n",
      "programmer       63\n",
      "retired          73\n",
      "salesman         66\n",
      "scientist        55\n",
      "student          42\n",
      "technician       55\n",
      "writer           60\n",
      "Name: age, dtype: int64\n"
     ]
    }
   ],
   "source": [
    "print(user.groupby('occupation').age.min())\n",
    "print(user.groupby('occupation').age.max())"
   ]
  },
  {
   "cell_type": "markdown",
   "id": "1da1d412",
   "metadata": {},
   "source": [
    "Step 5: Discover the Male ratio per occupation and sort it from the most to the least "
   ]
  },
  {
   "cell_type": "code",
   "execution_count": 94,
   "id": "ec627b8a",
   "metadata": {},
   "outputs": [
    {
     "data": {
      "text/plain": [
       "occupation\n",
       "doctor           1.000000\n",
       "engineer         0.970149\n",
       "technician       0.962963\n",
       "retired          0.928571\n",
       "programmer       0.909091\n",
       "executive        0.906250\n",
       "scientist        0.903226\n",
       "entertainment    0.888889\n",
       "lawyer           0.833333\n",
       "salesman         0.750000\n",
       "educator         0.726316\n",
       "student          0.693878\n",
       "other            0.657143\n",
       "marketing        0.615385\n",
       "writer           0.577778\n",
       "none             0.555556\n",
       "administrator    0.544304\n",
       "artist           0.535714\n",
       "librarian        0.431373\n",
       "healthcare       0.312500\n",
       "homemaker        0.142857\n",
       "dtype: float64"
      ]
     },
     "execution_count": 94,
     "metadata": {},
     "output_type": "execute_result"
    }
   ],
   "source": [
    "users['is_male'] = users.gender.apply(lambda x: True if x == 'M' else False)\n",
    "(users.groupby('occupation').is_male.sum() / users.groupby('occupation').gender.count()).sort_values(ascending = False)"
   ]
  },
  {
   "cell_type": "markdown",
   "id": "6de9f2cc",
   "metadata": {},
   "source": [
    "Step 6: For each occupation, calculate the minimum and maximum ages "
   ]
  },
  {
   "cell_type": "code",
   "execution_count": 95,
   "id": "85c1270b",
   "metadata": {},
   "outputs": [
    {
     "data": {
      "text/html": [
       "<div>\n",
       "<style scoped>\n",
       "    .dataframe tbody tr th:only-of-type {\n",
       "        vertical-align: middle;\n",
       "    }\n",
       "\n",
       "    .dataframe tbody tr th {\n",
       "        vertical-align: top;\n",
       "    }\n",
       "\n",
       "    .dataframe thead th {\n",
       "        text-align: right;\n",
       "    }\n",
       "</style>\n",
       "<table border=\"1\" class=\"dataframe\">\n",
       "  <thead>\n",
       "    <tr style=\"text-align: right;\">\n",
       "      <th></th>\n",
       "      <th>min</th>\n",
       "      <th>max</th>\n",
       "    </tr>\n",
       "    <tr>\n",
       "      <th>occupation</th>\n",
       "      <th></th>\n",
       "      <th></th>\n",
       "    </tr>\n",
       "  </thead>\n",
       "  <tbody>\n",
       "    <tr>\n",
       "      <th>administrator</th>\n",
       "      <td>21</td>\n",
       "      <td>70</td>\n",
       "    </tr>\n",
       "    <tr>\n",
       "      <th>artist</th>\n",
       "      <td>19</td>\n",
       "      <td>48</td>\n",
       "    </tr>\n",
       "    <tr>\n",
       "      <th>doctor</th>\n",
       "      <td>28</td>\n",
       "      <td>64</td>\n",
       "    </tr>\n",
       "    <tr>\n",
       "      <th>educator</th>\n",
       "      <td>23</td>\n",
       "      <td>63</td>\n",
       "    </tr>\n",
       "    <tr>\n",
       "      <th>engineer</th>\n",
       "      <td>22</td>\n",
       "      <td>70</td>\n",
       "    </tr>\n",
       "    <tr>\n",
       "      <th>entertainment</th>\n",
       "      <td>15</td>\n",
       "      <td>50</td>\n",
       "    </tr>\n",
       "    <tr>\n",
       "      <th>executive</th>\n",
       "      <td>22</td>\n",
       "      <td>69</td>\n",
       "    </tr>\n",
       "    <tr>\n",
       "      <th>healthcare</th>\n",
       "      <td>22</td>\n",
       "      <td>62</td>\n",
       "    </tr>\n",
       "    <tr>\n",
       "      <th>homemaker</th>\n",
       "      <td>20</td>\n",
       "      <td>50</td>\n",
       "    </tr>\n",
       "    <tr>\n",
       "      <th>lawyer</th>\n",
       "      <td>21</td>\n",
       "      <td>53</td>\n",
       "    </tr>\n",
       "    <tr>\n",
       "      <th>librarian</th>\n",
       "      <td>23</td>\n",
       "      <td>69</td>\n",
       "    </tr>\n",
       "    <tr>\n",
       "      <th>marketing</th>\n",
       "      <td>24</td>\n",
       "      <td>55</td>\n",
       "    </tr>\n",
       "    <tr>\n",
       "      <th>none</th>\n",
       "      <td>11</td>\n",
       "      <td>55</td>\n",
       "    </tr>\n",
       "    <tr>\n",
       "      <th>other</th>\n",
       "      <td>13</td>\n",
       "      <td>64</td>\n",
       "    </tr>\n",
       "    <tr>\n",
       "      <th>programmer</th>\n",
       "      <td>20</td>\n",
       "      <td>63</td>\n",
       "    </tr>\n",
       "    <tr>\n",
       "      <th>retired</th>\n",
       "      <td>51</td>\n",
       "      <td>73</td>\n",
       "    </tr>\n",
       "    <tr>\n",
       "      <th>salesman</th>\n",
       "      <td>18</td>\n",
       "      <td>66</td>\n",
       "    </tr>\n",
       "    <tr>\n",
       "      <th>scientist</th>\n",
       "      <td>23</td>\n",
       "      <td>55</td>\n",
       "    </tr>\n",
       "    <tr>\n",
       "      <th>student</th>\n",
       "      <td>7</td>\n",
       "      <td>42</td>\n",
       "    </tr>\n",
       "    <tr>\n",
       "      <th>technician</th>\n",
       "      <td>21</td>\n",
       "      <td>55</td>\n",
       "    </tr>\n",
       "    <tr>\n",
       "      <th>writer</th>\n",
       "      <td>18</td>\n",
       "      <td>60</td>\n",
       "    </tr>\n",
       "  </tbody>\n",
       "</table>\n",
       "</div>"
      ],
      "text/plain": [
       "               min  max\n",
       "occupation             \n",
       "administrator   21   70\n",
       "artist          19   48\n",
       "doctor          28   64\n",
       "educator        23   63\n",
       "engineer        22   70\n",
       "entertainment   15   50\n",
       "executive       22   69\n",
       "healthcare      22   62\n",
       "homemaker       20   50\n",
       "lawyer          21   53\n",
       "librarian       23   69\n",
       "marketing       24   55\n",
       "none            11   55\n",
       "other           13   64\n",
       "programmer      20   63\n",
       "retired         51   73\n",
       "salesman        18   66\n",
       "scientist       23   55\n",
       "student          7   42\n",
       "technician      21   55\n",
       "writer          18   60"
      ]
     },
     "execution_count": 95,
     "metadata": {},
     "output_type": "execute_result"
    }
   ],
   "source": [
    "users.groupby('occupation').age.agg(['min', 'max'])"
   ]
  },
  {
   "cell_type": "markdown",
   "id": "f636742a",
   "metadata": {},
   "source": [
    "Step 7: For each combination of occupation and sex, calculate the mean age "
   ]
  },
  {
   "cell_type": "code",
   "execution_count": 96,
   "id": "3ee54531",
   "metadata": {},
   "outputs": [
    {
     "data": {
      "text/plain": [
       "occupation     gender\n",
       "administrator  F         40.638889\n",
       "               M         37.162791\n",
       "artist         F         30.307692\n",
       "               M         32.333333\n",
       "doctor         M         43.571429\n",
       "educator       F         39.115385\n",
       "               M         43.101449\n",
       "engineer       F         29.500000\n",
       "               M         36.600000\n",
       "entertainment  F         31.000000\n",
       "               M         29.000000\n",
       "executive      F         44.000000\n",
       "               M         38.172414\n",
       "healthcare     F         39.818182\n",
       "               M         45.400000\n",
       "homemaker      F         34.166667\n",
       "               M         23.000000\n",
       "lawyer         F         39.500000\n",
       "               M         36.200000\n",
       "librarian      F         40.000000\n",
       "               M         40.000000\n",
       "marketing      F         37.200000\n",
       "               M         37.875000\n",
       "none           F         36.500000\n",
       "               M         18.600000\n",
       "other          F         35.472222\n",
       "               M         34.028986\n",
       "programmer     F         32.166667\n",
       "               M         33.216667\n",
       "retired        F         70.000000\n",
       "               M         62.538462\n",
       "salesman       F         27.000000\n",
       "               M         38.555556\n",
       "scientist      F         28.333333\n",
       "               M         36.321429\n",
       "student        F         20.750000\n",
       "               M         22.669118\n",
       "technician     F         38.000000\n",
       "               M         32.961538\n",
       "writer         F         37.631579\n",
       "               M         35.346154\n",
       "Name: age, dtype: float64"
      ]
     },
     "execution_count": 96,
     "metadata": {},
     "output_type": "execute_result"
    }
   ],
   "source": [
    "users.groupby(['occupation', 'gender']).age.mean()"
   ]
  },
  {
   "cell_type": "markdown",
   "id": "c32b5a4a",
   "metadata": {},
   "source": [
    "Step 8. For each occupation present the percentage of women and men"
   ]
  },
  {
   "cell_type": "code",
   "execution_count": 97,
   "id": "7153f562",
   "metadata": {},
   "outputs": [
    {
     "data": {
      "text/plain": [
       "occupation     gender\n",
       "administrator  F         0.455696\n",
       "               M         0.544304\n",
       "artist         F         0.464286\n",
       "               M         0.535714\n",
       "doctor         M         1.000000\n",
       "educator       F         0.273684\n",
       "               M         0.726316\n",
       "engineer       F         0.029851\n",
       "               M         0.970149\n",
       "entertainment  F         0.111111\n",
       "               M         0.888889\n",
       "executive      F         0.093750\n",
       "               M         0.906250\n",
       "healthcare     F         0.687500\n",
       "               M         0.312500\n",
       "homemaker      F         0.857143\n",
       "               M         0.142857\n",
       "lawyer         F         0.166667\n",
       "               M         0.833333\n",
       "librarian      F         0.568627\n",
       "               M         0.431373\n",
       "marketing      F         0.384615\n",
       "               M         0.615385\n",
       "none           F         0.444444\n",
       "               M         0.555556\n",
       "other          F         0.342857\n",
       "               M         0.657143\n",
       "programmer     F         0.090909\n",
       "               M         0.909091\n",
       "retired        F         0.071429\n",
       "               M         0.928571\n",
       "salesman       F         0.250000\n",
       "               M         0.750000\n",
       "scientist      F         0.096774\n",
       "               M         0.903226\n",
       "student        F         0.306122\n",
       "               M         0.693878\n",
       "technician     F         0.037037\n",
       "               M         0.962963\n",
       "writer         F         0.422222\n",
       "               M         0.577778\n",
       "Name: gender, dtype: float64"
      ]
     },
     "execution_count": 97,
     "metadata": {},
     "output_type": "execute_result"
    }
   ],
   "source": [
    "gender_ocup = users.groupby(['occupation', 'gender']).agg({'gender': 'count'})\n",
    "occup_count = users.groupby(['occupation']).count()\n",
    "occup_gender = gender_ocup.div(occup_count, level = \"occupation\")\n",
    "occup_gender.loc[:, 'gender']"
   ]
  },
  {
   "cell_type": "markdown",
   "id": "03b01b6a",
   "metadata": {},
   "source": [
    "Question 2: As the link is not working for data, thereofre, could not complete the same"
   ]
  },
  {
   "cell_type": "markdown",
   "id": "4190f937",
   "metadata": {},
   "source": [
    "Question 3:"
   ]
  },
  {
   "cell_type": "markdown",
   "id": "d6fc296a",
   "metadata": {},
   "source": [
    "Step 1. Import the necessary libraries"
   ]
  },
  {
   "cell_type": "code",
   "execution_count": 100,
   "id": "809fb7d3",
   "metadata": {},
   "outputs": [],
   "source": [
    "import pandas as pd\n",
    "import random\n"
   ]
  },
  {
   "cell_type": "markdown",
   "id": "027974e7",
   "metadata": {},
   "source": [
    "Step 2. \n",
    "Create 3 differents Series, each of length 100, as follows: \n",
    "• The first a random number from 1 to 4 \n",
    "• The second a random number from 1 to 3 \n",
    "• The third a random number from 10,000 to 30,000 "
   ]
  },
  {
   "cell_type": "code",
   "execution_count": 101,
   "id": "1939d948",
   "metadata": {},
   "outputs": [],
   "source": [
    "first = [[random.randint(1, 4)] for i in range(100)]\n",
    "df1 = pd.DataFrame(first)\n",
    "\n",
    "second = [[random.randint(1, 3)] for i in range(100)]\n",
    "df2 = pd.DataFrame(second)\n",
    "\n",
    "third = [[random.randint(10000, 30000)] for i in range(100)]\n",
    "df3 = pd.DataFrame(third)"
   ]
  },
  {
   "cell_type": "markdown",
   "id": "43956b92",
   "metadata": {},
   "source": [
    "Step 3. Create a DataFrame by joinning the Series by column "
   ]
  },
  {
   "cell_type": "code",
   "execution_count": 102,
   "id": "25c081d4",
   "metadata": {},
   "outputs": [
    {
     "data": {
      "text/html": [
       "<div>\n",
       "<style scoped>\n",
       "    .dataframe tbody tr th:only-of-type {\n",
       "        vertical-align: middle;\n",
       "    }\n",
       "\n",
       "    .dataframe tbody tr th {\n",
       "        vertical-align: top;\n",
       "    }\n",
       "\n",
       "    .dataframe thead th {\n",
       "        text-align: right;\n",
       "    }\n",
       "</style>\n",
       "<table border=\"1\" class=\"dataframe\">\n",
       "  <thead>\n",
       "    <tr style=\"text-align: right;\">\n",
       "      <th></th>\n",
       "      <th>0</th>\n",
       "      <th>0</th>\n",
       "      <th>0</th>\n",
       "    </tr>\n",
       "  </thead>\n",
       "  <tbody>\n",
       "    <tr>\n",
       "      <th>0</th>\n",
       "      <td>1</td>\n",
       "      <td>1</td>\n",
       "      <td>14131</td>\n",
       "    </tr>\n",
       "    <tr>\n",
       "      <th>1</th>\n",
       "      <td>3</td>\n",
       "      <td>2</td>\n",
       "      <td>18756</td>\n",
       "    </tr>\n",
       "    <tr>\n",
       "      <th>2</th>\n",
       "      <td>3</td>\n",
       "      <td>1</td>\n",
       "      <td>16546</td>\n",
       "    </tr>\n",
       "    <tr>\n",
       "      <th>3</th>\n",
       "      <td>3</td>\n",
       "      <td>3</td>\n",
       "      <td>23482</td>\n",
       "    </tr>\n",
       "    <tr>\n",
       "      <th>4</th>\n",
       "      <td>4</td>\n",
       "      <td>1</td>\n",
       "      <td>15079</td>\n",
       "    </tr>\n",
       "    <tr>\n",
       "      <th>...</th>\n",
       "      <td>...</td>\n",
       "      <td>...</td>\n",
       "      <td>...</td>\n",
       "    </tr>\n",
       "    <tr>\n",
       "      <th>95</th>\n",
       "      <td>2</td>\n",
       "      <td>1</td>\n",
       "      <td>18317</td>\n",
       "    </tr>\n",
       "    <tr>\n",
       "      <th>96</th>\n",
       "      <td>4</td>\n",
       "      <td>3</td>\n",
       "      <td>27277</td>\n",
       "    </tr>\n",
       "    <tr>\n",
       "      <th>97</th>\n",
       "      <td>4</td>\n",
       "      <td>3</td>\n",
       "      <td>23198</td>\n",
       "    </tr>\n",
       "    <tr>\n",
       "      <th>98</th>\n",
       "      <td>3</td>\n",
       "      <td>1</td>\n",
       "      <td>12116</td>\n",
       "    </tr>\n",
       "    <tr>\n",
       "      <th>99</th>\n",
       "      <td>3</td>\n",
       "      <td>3</td>\n",
       "      <td>26579</td>\n",
       "    </tr>\n",
       "  </tbody>\n",
       "</table>\n",
       "<p>100 rows × 3 columns</p>\n",
       "</div>"
      ],
      "text/plain": [
       "    0  0      0\n",
       "0   1  1  14131\n",
       "1   3  2  18756\n",
       "2   3  1  16546\n",
       "3   3  3  23482\n",
       "4   4  1  15079\n",
       ".. .. ..    ...\n",
       "95  2  1  18317\n",
       "96  4  3  27277\n",
       "97  4  3  23198\n",
       "98  3  1  12116\n",
       "99  3  3  26579\n",
       "\n",
       "[100 rows x 3 columns]"
      ]
     },
     "execution_count": 102,
     "metadata": {},
     "output_type": "execute_result"
    }
   ],
   "source": [
    "df = pd.concat([df1, df2 , df3], axis=1)\n",
    "df"
   ]
  },
  {
   "cell_type": "markdown",
   "id": "55c4a155",
   "metadata": {},
   "source": [
    "Step 4. Change the name of the columns to bedrs, bathrs, price_sqr_meter "
   ]
  },
  {
   "cell_type": "code",
   "execution_count": 103,
   "id": "c9724bfe",
   "metadata": {},
   "outputs": [
    {
     "data": {
      "text/html": [
       "<div>\n",
       "<style scoped>\n",
       "    .dataframe tbody tr th:only-of-type {\n",
       "        vertical-align: middle;\n",
       "    }\n",
       "\n",
       "    .dataframe tbody tr th {\n",
       "        vertical-align: top;\n",
       "    }\n",
       "\n",
       "    .dataframe thead th {\n",
       "        text-align: right;\n",
       "    }\n",
       "</style>\n",
       "<table border=\"1\" class=\"dataframe\">\n",
       "  <thead>\n",
       "    <tr style=\"text-align: right;\">\n",
       "      <th></th>\n",
       "      <th>bedrs</th>\n",
       "      <th>bathrs</th>\n",
       "      <th>price_sqr_meter</th>\n",
       "    </tr>\n",
       "  </thead>\n",
       "  <tbody>\n",
       "    <tr>\n",
       "      <th>0</th>\n",
       "      <td>1</td>\n",
       "      <td>1</td>\n",
       "      <td>14131</td>\n",
       "    </tr>\n",
       "    <tr>\n",
       "      <th>1</th>\n",
       "      <td>3</td>\n",
       "      <td>2</td>\n",
       "      <td>18756</td>\n",
       "    </tr>\n",
       "    <tr>\n",
       "      <th>2</th>\n",
       "      <td>3</td>\n",
       "      <td>1</td>\n",
       "      <td>16546</td>\n",
       "    </tr>\n",
       "    <tr>\n",
       "      <th>3</th>\n",
       "      <td>3</td>\n",
       "      <td>3</td>\n",
       "      <td>23482</td>\n",
       "    </tr>\n",
       "    <tr>\n",
       "      <th>4</th>\n",
       "      <td>4</td>\n",
       "      <td>1</td>\n",
       "      <td>15079</td>\n",
       "    </tr>\n",
       "    <tr>\n",
       "      <th>...</th>\n",
       "      <td>...</td>\n",
       "      <td>...</td>\n",
       "      <td>...</td>\n",
       "    </tr>\n",
       "    <tr>\n",
       "      <th>95</th>\n",
       "      <td>2</td>\n",
       "      <td>1</td>\n",
       "      <td>18317</td>\n",
       "    </tr>\n",
       "    <tr>\n",
       "      <th>96</th>\n",
       "      <td>4</td>\n",
       "      <td>3</td>\n",
       "      <td>27277</td>\n",
       "    </tr>\n",
       "    <tr>\n",
       "      <th>97</th>\n",
       "      <td>4</td>\n",
       "      <td>3</td>\n",
       "      <td>23198</td>\n",
       "    </tr>\n",
       "    <tr>\n",
       "      <th>98</th>\n",
       "      <td>3</td>\n",
       "      <td>1</td>\n",
       "      <td>12116</td>\n",
       "    </tr>\n",
       "    <tr>\n",
       "      <th>99</th>\n",
       "      <td>3</td>\n",
       "      <td>3</td>\n",
       "      <td>26579</td>\n",
       "    </tr>\n",
       "  </tbody>\n",
       "</table>\n",
       "<p>100 rows × 3 columns</p>\n",
       "</div>"
      ],
      "text/plain": [
       "    bedrs  bathrs  price_sqr_meter\n",
       "0       1       1            14131\n",
       "1       3       2            18756\n",
       "2       3       1            16546\n",
       "3       3       3            23482\n",
       "4       4       1            15079\n",
       "..    ...     ...              ...\n",
       "95      2       1            18317\n",
       "96      4       3            27277\n",
       "97      4       3            23198\n",
       "98      3       1            12116\n",
       "99      3       3            26579\n",
       "\n",
       "[100 rows x 3 columns]"
      ]
     },
     "execution_count": 103,
     "metadata": {},
     "output_type": "execute_result"
    }
   ],
   "source": [
    "df.columns = ['bedrs', 'bathrs', 'price_sqr_meter']\n",
    "df\n"
   ]
  },
  {
   "cell_type": "markdown",
   "id": "8dec80ba",
   "metadata": {},
   "source": [
    "Step 5. Create a one column DataFrame with the values of the 3 Series and assign it to 'bigcolumn"
   ]
  },
  {
   "cell_type": "code",
   "execution_count": 104,
   "id": "130c62e0",
   "metadata": {},
   "outputs": [
    {
     "data": {
      "text/plain": [
       "0     1114131\n",
       "1     3218756\n",
       "2     3116546\n",
       "3     3323482\n",
       "4     4115079\n",
       "       ...   \n",
       "95    2118317\n",
       "96    4327277\n",
       "97    4323198\n",
       "98    3112116\n",
       "99    3326579\n",
       "Name: bedrs, Length: 100, dtype: object"
      ]
     },
     "execution_count": 104,
     "metadata": {},
     "output_type": "execute_result"
    }
   ],
   "source": [
    "df_new = df.bedrs.astype(str).str.cat(df.bathrs.astype(str)).str.cat(df.price_sqr_meter.astype(str))\n",
    "df_new.columns = ['bigcolumn']\n",
    "df_new"
   ]
  },
  {
   "cell_type": "markdown",
   "id": "72409c7c",
   "metadata": {},
   "source": [
    "Step 6. Ops it seems it is going only until index 99. Is it true? \n",
    "Step 7. Reindex the DataFrame so it goes from 0 to 299 "
   ]
  },
  {
   "cell_type": "code",
   "execution_count": 106,
   "id": "229d8296",
   "metadata": {},
   "outputs": [
    {
     "data": {
      "text/plain": [
       "0      1114131\n",
       "1      3218756\n",
       "2      3116546\n",
       "3      3323482\n",
       "4      4115079\n",
       "        ...   \n",
       "294        NaN\n",
       "295        NaN\n",
       "296        NaN\n",
       "297        NaN\n",
       "298        NaN\n",
       "Name: bedrs, Length: 299, dtype: object"
      ]
     },
     "execution_count": 106,
     "metadata": {},
     "output_type": "execute_result"
    }
   ],
   "source": [
    "df_new = df_new.reset_index(drop=True)\n",
    "df_new.reset_index()\n",
    "df_new.reindex(index=range(0,299))"
   ]
  },
  {
   "cell_type": "markdown",
   "id": "b9508c48",
   "metadata": {},
   "source": [
    "Question 4:\n",
    "Wind Statistics \n",
    "The data have been modified to contain some missing values, identified by NaN. Using pandas should make this exercise easier, in particular for the bonus question.  \n",
    "You should be able to perform all of these operations without using a for loop or other looping construct.  \n",
    "The data in 'wind.data' has the following format: \n",
    "Yr Mo Dy  RPT VAL  ROS  KIL  SHA  BIR  DUB  CLA  MUL   CLO   BEL MAL \n",
    "61 1 1 15.04 14.96 13.17 9.29 NaN 9.87 13.67 10.25 10.83 12.58 18.50 15.04 \n",
    "61 1 2 14.71 NaN 10.83 6.50 12.62 7.67 11.50 10.04 9.79 9.67 17.54 13.83 \n",
    "61 1 3 18.50 16.88 12.33 10.13 11.17 6.17 11.25 NaN 8.50 7.67 12.75 12.71  \n",
    "\n",
    "The first three columns are year, month, and day. The remaining 12 columns are average windspeeds in knots at 12 locations in Ireland on that day. "
   ]
  },
  {
   "cell_type": "markdown",
   "id": "d7a3bcf9",
   "metadata": {},
   "source": [
    "Step 1. Import the necessary libraries "
   ]
  },
  {
   "cell_type": "code",
   "execution_count": 107,
   "id": "8cfdf1fe",
   "metadata": {},
   "outputs": [],
   "source": [
    "import pandas as pd\n",
    "import numpy as np"
   ]
  },
  {
   "cell_type": "markdown",
   "id": "c92e5af0",
   "metadata": {},
   "source": [
    "Step 2. Import the dataset from the attached file wind.txt "
   ]
  },
  {
   "cell_type": "code",
   "execution_count": 108,
   "id": "6a15e63b",
   "metadata": {},
   "outputs": [
    {
     "data": {
      "text/html": [
       "<div>\n",
       "<style scoped>\n",
       "    .dataframe tbody tr th:only-of-type {\n",
       "        vertical-align: middle;\n",
       "    }\n",
       "\n",
       "    .dataframe tbody tr th {\n",
       "        vertical-align: top;\n",
       "    }\n",
       "\n",
       "    .dataframe thead th {\n",
       "        text-align: right;\n",
       "    }\n",
       "</style>\n",
       "<table border=\"1\" class=\"dataframe\">\n",
       "  <thead>\n",
       "    <tr style=\"text-align: right;\">\n",
       "      <th></th>\n",
       "      <th>Yr</th>\n",
       "      <th>Mo</th>\n",
       "      <th>Dy</th>\n",
       "      <th>RPT</th>\n",
       "      <th>VAL</th>\n",
       "      <th>ROS</th>\n",
       "      <th>KIL</th>\n",
       "      <th>SHA</th>\n",
       "      <th>BIR</th>\n",
       "      <th>DUB</th>\n",
       "      <th>CLA</th>\n",
       "      <th>MUL</th>\n",
       "      <th>CLO</th>\n",
       "      <th>BEL</th>\n",
       "      <th>MAL</th>\n",
       "    </tr>\n",
       "  </thead>\n",
       "  <tbody>\n",
       "    <tr>\n",
       "      <th>0</th>\n",
       "      <td>61</td>\n",
       "      <td>1</td>\n",
       "      <td>1</td>\n",
       "      <td>15.04</td>\n",
       "      <td>14.96</td>\n",
       "      <td>13.17</td>\n",
       "      <td>9.29</td>\n",
       "      <td>NaN</td>\n",
       "      <td>9.87</td>\n",
       "      <td>13.67</td>\n",
       "      <td>10.25</td>\n",
       "      <td>10.83</td>\n",
       "      <td>12.58</td>\n",
       "      <td>18.50</td>\n",
       "      <td>15.04</td>\n",
       "    </tr>\n",
       "    <tr>\n",
       "      <th>1</th>\n",
       "      <td>61</td>\n",
       "      <td>1</td>\n",
       "      <td>2</td>\n",
       "      <td>14.71</td>\n",
       "      <td>NaN</td>\n",
       "      <td>10.83</td>\n",
       "      <td>6.50</td>\n",
       "      <td>12.62</td>\n",
       "      <td>7.67</td>\n",
       "      <td>11.50</td>\n",
       "      <td>10.04</td>\n",
       "      <td>9.79</td>\n",
       "      <td>9.67</td>\n",
       "      <td>17.54</td>\n",
       "      <td>13.83</td>\n",
       "    </tr>\n",
       "    <tr>\n",
       "      <th>2</th>\n",
       "      <td>61</td>\n",
       "      <td>1</td>\n",
       "      <td>3</td>\n",
       "      <td>18.50</td>\n",
       "      <td>16.88</td>\n",
       "      <td>12.33</td>\n",
       "      <td>10.13</td>\n",
       "      <td>11.17</td>\n",
       "      <td>6.17</td>\n",
       "      <td>11.25</td>\n",
       "      <td>NaN</td>\n",
       "      <td>8.50</td>\n",
       "      <td>7.67</td>\n",
       "      <td>12.75</td>\n",
       "      <td>12.71</td>\n",
       "    </tr>\n",
       "    <tr>\n",
       "      <th>3</th>\n",
       "      <td>61</td>\n",
       "      <td>1</td>\n",
       "      <td>4</td>\n",
       "      <td>10.58</td>\n",
       "      <td>6.63</td>\n",
       "      <td>11.75</td>\n",
       "      <td>4.58</td>\n",
       "      <td>4.54</td>\n",
       "      <td>2.88</td>\n",
       "      <td>8.63</td>\n",
       "      <td>1.79</td>\n",
       "      <td>5.83</td>\n",
       "      <td>5.88</td>\n",
       "      <td>5.46</td>\n",
       "      <td>10.88</td>\n",
       "    </tr>\n",
       "    <tr>\n",
       "      <th>4</th>\n",
       "      <td>61</td>\n",
       "      <td>1</td>\n",
       "      <td>5</td>\n",
       "      <td>13.33</td>\n",
       "      <td>13.25</td>\n",
       "      <td>11.42</td>\n",
       "      <td>6.17</td>\n",
       "      <td>10.71</td>\n",
       "      <td>8.21</td>\n",
       "      <td>11.92</td>\n",
       "      <td>6.54</td>\n",
       "      <td>10.92</td>\n",
       "      <td>10.34</td>\n",
       "      <td>12.92</td>\n",
       "      <td>11.83</td>\n",
       "    </tr>\n",
       "  </tbody>\n",
       "</table>\n",
       "</div>"
      ],
      "text/plain": [
       "   Yr  Mo  Dy    RPT    VAL    ROS    KIL    SHA   BIR    DUB    CLA    MUL  \\\n",
       "0  61   1   1  15.04  14.96  13.17   9.29    NaN  9.87  13.67  10.25  10.83   \n",
       "1  61   1   2  14.71    NaN  10.83   6.50  12.62  7.67  11.50  10.04   9.79   \n",
       "2  61   1   3  18.50  16.88  12.33  10.13  11.17  6.17  11.25    NaN   8.50   \n",
       "3  61   1   4  10.58   6.63  11.75   4.58   4.54  2.88   8.63   1.79   5.83   \n",
       "4  61   1   5  13.33  13.25  11.42   6.17  10.71  8.21  11.92   6.54  10.92   \n",
       "\n",
       "     CLO    BEL    MAL  \n",
       "0  12.58  18.50  15.04  \n",
       "1   9.67  17.54  13.83  \n",
       "2   7.67  12.75  12.71  \n",
       "3   5.88   5.46  10.88  \n",
       "4  10.34  12.92  11.83  "
      ]
     },
     "execution_count": 108,
     "metadata": {},
     "output_type": "execute_result"
    }
   ],
   "source": [
    "data = pd.read_csv('https://raw.githubusercontent.com/guipsamora/pandas_exercises/master/06_Stats/Wind_Stats/wind.data',sep = '\\s+')\n",
    "data.head()"
   ]
  },
  {
   "cell_type": "markdown",
   "id": "e2a5f770",
   "metadata": {},
   "source": [
    "Step 3. Assign it to a variable called data and replace the first 3 columns by a proper datetime index. "
   ]
  },
  {
   "cell_type": "code",
   "execution_count": 109,
   "id": "dcabbe90",
   "metadata": {},
   "outputs": [
    {
     "data": {
      "text/html": [
       "<div>\n",
       "<style scoped>\n",
       "    .dataframe tbody tr th:only-of-type {\n",
       "        vertical-align: middle;\n",
       "    }\n",
       "\n",
       "    .dataframe tbody tr th {\n",
       "        vertical-align: top;\n",
       "    }\n",
       "\n",
       "    .dataframe thead th {\n",
       "        text-align: right;\n",
       "    }\n",
       "</style>\n",
       "<table border=\"1\" class=\"dataframe\">\n",
       "  <thead>\n",
       "    <tr style=\"text-align: right;\">\n",
       "      <th></th>\n",
       "      <th>Date</th>\n",
       "      <th>RPT</th>\n",
       "      <th>VAL</th>\n",
       "      <th>ROS</th>\n",
       "      <th>KIL</th>\n",
       "      <th>SHA</th>\n",
       "      <th>BIR</th>\n",
       "      <th>DUB</th>\n",
       "      <th>CLA</th>\n",
       "      <th>MUL</th>\n",
       "      <th>CLO</th>\n",
       "      <th>BEL</th>\n",
       "      <th>MAL</th>\n",
       "    </tr>\n",
       "  </thead>\n",
       "  <tbody>\n",
       "    <tr>\n",
       "      <th>0</th>\n",
       "      <td>2061-01-01</td>\n",
       "      <td>15.04</td>\n",
       "      <td>14.96</td>\n",
       "      <td>13.17</td>\n",
       "      <td>9.29</td>\n",
       "      <td>NaN</td>\n",
       "      <td>9.87</td>\n",
       "      <td>13.67</td>\n",
       "      <td>10.25</td>\n",
       "      <td>10.83</td>\n",
       "      <td>12.58</td>\n",
       "      <td>18.50</td>\n",
       "      <td>15.04</td>\n",
       "    </tr>\n",
       "    <tr>\n",
       "      <th>1</th>\n",
       "      <td>2061-01-02</td>\n",
       "      <td>14.71</td>\n",
       "      <td>NaN</td>\n",
       "      <td>10.83</td>\n",
       "      <td>6.50</td>\n",
       "      <td>12.62</td>\n",
       "      <td>7.67</td>\n",
       "      <td>11.50</td>\n",
       "      <td>10.04</td>\n",
       "      <td>9.79</td>\n",
       "      <td>9.67</td>\n",
       "      <td>17.54</td>\n",
       "      <td>13.83</td>\n",
       "    </tr>\n",
       "    <tr>\n",
       "      <th>2</th>\n",
       "      <td>2061-01-03</td>\n",
       "      <td>18.50</td>\n",
       "      <td>16.88</td>\n",
       "      <td>12.33</td>\n",
       "      <td>10.13</td>\n",
       "      <td>11.17</td>\n",
       "      <td>6.17</td>\n",
       "      <td>11.25</td>\n",
       "      <td>NaN</td>\n",
       "      <td>8.50</td>\n",
       "      <td>7.67</td>\n",
       "      <td>12.75</td>\n",
       "      <td>12.71</td>\n",
       "    </tr>\n",
       "    <tr>\n",
       "      <th>3</th>\n",
       "      <td>2061-01-04</td>\n",
       "      <td>10.58</td>\n",
       "      <td>6.63</td>\n",
       "      <td>11.75</td>\n",
       "      <td>4.58</td>\n",
       "      <td>4.54</td>\n",
       "      <td>2.88</td>\n",
       "      <td>8.63</td>\n",
       "      <td>1.79</td>\n",
       "      <td>5.83</td>\n",
       "      <td>5.88</td>\n",
       "      <td>5.46</td>\n",
       "      <td>10.88</td>\n",
       "    </tr>\n",
       "    <tr>\n",
       "      <th>4</th>\n",
       "      <td>2061-01-05</td>\n",
       "      <td>13.33</td>\n",
       "      <td>13.25</td>\n",
       "      <td>11.42</td>\n",
       "      <td>6.17</td>\n",
       "      <td>10.71</td>\n",
       "      <td>8.21</td>\n",
       "      <td>11.92</td>\n",
       "      <td>6.54</td>\n",
       "      <td>10.92</td>\n",
       "      <td>10.34</td>\n",
       "      <td>12.92</td>\n",
       "      <td>11.83</td>\n",
       "    </tr>\n",
       "  </tbody>\n",
       "</table>\n",
       "</div>"
      ],
      "text/plain": [
       "        Date    RPT    VAL    ROS    KIL    SHA   BIR    DUB    CLA    MUL  \\\n",
       "0 2061-01-01  15.04  14.96  13.17   9.29    NaN  9.87  13.67  10.25  10.83   \n",
       "1 2061-01-02  14.71    NaN  10.83   6.50  12.62  7.67  11.50  10.04   9.79   \n",
       "2 2061-01-03  18.50  16.88  12.33  10.13  11.17  6.17  11.25    NaN   8.50   \n",
       "3 2061-01-04  10.58   6.63  11.75   4.58   4.54  2.88   8.63   1.79   5.83   \n",
       "4 2061-01-05  13.33  13.25  11.42   6.17  10.71  8.21  11.92   6.54  10.92   \n",
       "\n",
       "     CLO    BEL    MAL  \n",
       "0  12.58  18.50  15.04  \n",
       "1   9.67  17.54  13.83  \n",
       "2   7.67  12.75  12.71  \n",
       "3   5.88   5.46  10.88  \n",
       "4  10.34  12.92  11.83  "
      ]
     },
     "execution_count": 109,
     "metadata": {},
     "output_type": "execute_result"
    }
   ],
   "source": [
    "data[\"Date\"] = pd.to_datetime(data[[\"Yr\",\"Mo\",\"Dy\"]].astype(str).agg('-'.join, axis=1))\n",
    "data = data.drop(columns=[\"Yr\",\"Mo\",\"Dy\"])\n",
    "#re-arrange cols\n",
    "data = data[['Date','RPT','VAL','ROS','KIL','SHA','BIR','DUB','CLA','MUL','CLO','BEL','MAL']]\n",
    "data.head()"
   ]
  },
  {
   "cell_type": "markdown",
   "id": "958974c6",
   "metadata": {},
   "source": [
    "Step 4. Year 2061? Do we really have data from this year? Create a function to fix it and apply it. "
   ]
  },
  {
   "cell_type": "code",
   "execution_count": 110,
   "id": "4fa4d8d7",
   "metadata": {},
   "outputs": [
    {
     "data": {
      "text/html": [
       "<div>\n",
       "<style scoped>\n",
       "    .dataframe tbody tr th:only-of-type {\n",
       "        vertical-align: middle;\n",
       "    }\n",
       "\n",
       "    .dataframe tbody tr th {\n",
       "        vertical-align: top;\n",
       "    }\n",
       "\n",
       "    .dataframe thead th {\n",
       "        text-align: right;\n",
       "    }\n",
       "</style>\n",
       "<table border=\"1\" class=\"dataframe\">\n",
       "  <thead>\n",
       "    <tr style=\"text-align: right;\">\n",
       "      <th></th>\n",
       "      <th>Date</th>\n",
       "      <th>RPT</th>\n",
       "      <th>VAL</th>\n",
       "      <th>ROS</th>\n",
       "      <th>KIL</th>\n",
       "      <th>SHA</th>\n",
       "      <th>BIR</th>\n",
       "      <th>DUB</th>\n",
       "      <th>CLA</th>\n",
       "      <th>MUL</th>\n",
       "      <th>CLO</th>\n",
       "      <th>BEL</th>\n",
       "      <th>MAL</th>\n",
       "    </tr>\n",
       "  </thead>\n",
       "  <tbody>\n",
       "    <tr>\n",
       "      <th>0</th>\n",
       "      <td>1961-01-01</td>\n",
       "      <td>15.04</td>\n",
       "      <td>14.96</td>\n",
       "      <td>13.17</td>\n",
       "      <td>9.29</td>\n",
       "      <td>NaN</td>\n",
       "      <td>9.87</td>\n",
       "      <td>13.67</td>\n",
       "      <td>10.25</td>\n",
       "      <td>10.83</td>\n",
       "      <td>12.58</td>\n",
       "      <td>18.50</td>\n",
       "      <td>15.04</td>\n",
       "    </tr>\n",
       "    <tr>\n",
       "      <th>1</th>\n",
       "      <td>1961-01-02</td>\n",
       "      <td>14.71</td>\n",
       "      <td>NaN</td>\n",
       "      <td>10.83</td>\n",
       "      <td>6.50</td>\n",
       "      <td>12.62</td>\n",
       "      <td>7.67</td>\n",
       "      <td>11.50</td>\n",
       "      <td>10.04</td>\n",
       "      <td>9.79</td>\n",
       "      <td>9.67</td>\n",
       "      <td>17.54</td>\n",
       "      <td>13.83</td>\n",
       "    </tr>\n",
       "    <tr>\n",
       "      <th>2</th>\n",
       "      <td>1961-01-03</td>\n",
       "      <td>18.50</td>\n",
       "      <td>16.88</td>\n",
       "      <td>12.33</td>\n",
       "      <td>10.13</td>\n",
       "      <td>11.17</td>\n",
       "      <td>6.17</td>\n",
       "      <td>11.25</td>\n",
       "      <td>NaN</td>\n",
       "      <td>8.50</td>\n",
       "      <td>7.67</td>\n",
       "      <td>12.75</td>\n",
       "      <td>12.71</td>\n",
       "    </tr>\n",
       "    <tr>\n",
       "      <th>3</th>\n",
       "      <td>1961-01-04</td>\n",
       "      <td>10.58</td>\n",
       "      <td>6.63</td>\n",
       "      <td>11.75</td>\n",
       "      <td>4.58</td>\n",
       "      <td>4.54</td>\n",
       "      <td>2.88</td>\n",
       "      <td>8.63</td>\n",
       "      <td>1.79</td>\n",
       "      <td>5.83</td>\n",
       "      <td>5.88</td>\n",
       "      <td>5.46</td>\n",
       "      <td>10.88</td>\n",
       "    </tr>\n",
       "    <tr>\n",
       "      <th>4</th>\n",
       "      <td>1961-01-05</td>\n",
       "      <td>13.33</td>\n",
       "      <td>13.25</td>\n",
       "      <td>11.42</td>\n",
       "      <td>6.17</td>\n",
       "      <td>10.71</td>\n",
       "      <td>8.21</td>\n",
       "      <td>11.92</td>\n",
       "      <td>6.54</td>\n",
       "      <td>10.92</td>\n",
       "      <td>10.34</td>\n",
       "      <td>12.92</td>\n",
       "      <td>11.83</td>\n",
       "    </tr>\n",
       "  </tbody>\n",
       "</table>\n",
       "</div>"
      ],
      "text/plain": [
       "        Date    RPT    VAL    ROS    KIL    SHA   BIR    DUB    CLA    MUL  \\\n",
       "0 1961-01-01  15.04  14.96  13.17   9.29    NaN  9.87  13.67  10.25  10.83   \n",
       "1 1961-01-02  14.71    NaN  10.83   6.50  12.62  7.67  11.50  10.04   9.79   \n",
       "2 1961-01-03  18.50  16.88  12.33  10.13  11.17  6.17  11.25    NaN   8.50   \n",
       "3 1961-01-04  10.58   6.63  11.75   4.58   4.54  2.88   8.63   1.79   5.83   \n",
       "4 1961-01-05  13.33  13.25  11.42   6.17  10.71  8.21  11.92   6.54  10.92   \n",
       "\n",
       "     CLO    BEL    MAL  \n",
       "0  12.58  18.50  15.04  \n",
       "1   9.67  17.54  13.83  \n",
       "2   7.67  12.75  12.71  \n",
       "3   5.88   5.46  10.88  \n",
       "4  10.34  12.92  11.83  "
      ]
     },
     "execution_count": 110,
     "metadata": {},
     "output_type": "execute_result"
    }
   ],
   "source": [
    "data[\"Date\"] = np.where(pd.DatetimeIndex(data[\"Date\"]).year < 2000,\n",
    "data.Date,data.Date - pd.offsets.DateOffset(years=100))\n",
    "data.head()"
   ]
  },
  {
   "cell_type": "markdown",
   "id": "b12ef8b4",
   "metadata": {},
   "source": [
    "Step 5. Set the right dates as the index. Pay attention at the data type, it should be datetime64[ns]. "
   ]
  },
  {
   "cell_type": "code",
   "execution_count": 111,
   "id": "b316980d",
   "metadata": {},
   "outputs": [
    {
     "data": {
      "text/plain": [
       "DatetimeIndex(['1961-01-01', '1961-01-02', '1961-01-03', '1961-01-04',\n",
       "               '1961-01-05', '1961-01-06', '1961-01-07', '1961-01-08',\n",
       "               '1961-01-09', '1961-01-10',\n",
       "               ...\n",
       "               '1978-12-22', '1978-12-23', '1978-12-24', '1978-12-25',\n",
       "               '1978-12-26', '1978-12-27', '1978-12-28', '1978-12-29',\n",
       "               '1978-12-30', '1978-12-31'],\n",
       "              dtype='datetime64[ns]', name='Date', length=6574, freq=None)"
      ]
     },
     "execution_count": 111,
     "metadata": {},
     "output_type": "execute_result"
    }
   ],
   "source": [
    "newData = data.set_index(\"Date\")\n",
    "newData.index.astype(\"datetime64[ns]\")"
   ]
  },
  {
   "cell_type": "markdown",
   "id": "7bd8f6ae",
   "metadata": {},
   "source": [
    "Step 6. Compute how many values are missing for each location over the entire record.They should be ignored in all calculations below. "
   ]
  },
  {
   "cell_type": "code",
   "execution_count": 112,
   "id": "24c0e283",
   "metadata": {},
   "outputs": [
    {
     "data": {
      "text/plain": [
       "31"
      ]
     },
     "execution_count": 112,
     "metadata": {},
     "output_type": "execute_result"
    }
   ],
   "source": [
    "newData.isnull().values.ravel().sum()"
   ]
  },
  {
   "cell_type": "markdown",
   "id": "cfdea105",
   "metadata": {},
   "source": [
    "Step 7. Compute how many non-missing values there are in total. "
   ]
  },
  {
   "cell_type": "code",
   "execution_count": 113,
   "id": "611391d4",
   "metadata": {},
   "outputs": [
    {
     "name": "stdout",
     "output_type": "stream",
     "text": [
      "There are total  78857  Non-missing values.\n"
     ]
    }
   ],
   "source": [
    "nData = newData.count()\n",
    "print(\"There are total \", nData.sum(), \" Non-missing values.\")"
   ]
  },
  {
   "cell_type": "markdown",
   "id": "509c9b0e",
   "metadata": {},
   "source": [
    "Step 8. Calculate the mean windspeeds of the windspeeds over all the locations and all the times. \n",
    "A single number for the entire dataset. "
   ]
  },
  {
   "cell_type": "code",
   "execution_count": 114,
   "id": "ca34b6e7",
   "metadata": {},
   "outputs": [
    {
     "data": {
      "text/plain": [
       "RPT    12.362987\n",
       "VAL    10.644314\n",
       "ROS    11.660526\n",
       "KIL     6.306468\n",
       "SHA    10.455834\n",
       "BIR     7.092254\n",
       "DUB     9.797343\n",
       "CLA     8.495053\n",
       "MUL     8.493590\n",
       "CLO     8.707332\n",
       "BEL    13.121007\n",
       "MAL    15.599079\n",
       "dtype: float64"
      ]
     },
     "execution_count": 114,
     "metadata": {},
     "output_type": "execute_result"
    }
   ],
   "source": [
    "x = newData.mean()\n",
    "x"
   ]
  },
  {
   "cell_type": "markdown",
   "id": "cb2b8ef6",
   "metadata": {},
   "source": [
    "Step 9. Create a DataFrame called loc_stats and calculate the min, max and mean windspeeds and standard deviations of the windspeeds at each location over all the days \n",
    "A different set of numbers for each location"
   ]
  },
  {
   "cell_type": "code",
   "execution_count": 115,
   "id": "1c145e5b",
   "metadata": {},
   "outputs": [],
   "source": [
    "def stats(x):\n",
    "    x = pd.Series(x)\n",
    "    Min = x.min()\n",
    "    Max = x.max()\n",
    "    Mean = x.mean()\n",
    "    Std = x.std()\n",
    "    res = [Min,Max,Mean,Std]\n",
    "    indx = [\"Min\",\"Max\",\"Mean\",\"Std\"]\n",
    "    res = pd.Series(res,index=indx)\n",
    "    return res"
   ]
  },
  {
   "cell_type": "code",
   "execution_count": 116,
   "id": "b29bdd16",
   "metadata": {},
   "outputs": [
    {
     "data": {
      "text/html": [
       "<div>\n",
       "<style scoped>\n",
       "    .dataframe tbody tr th:only-of-type {\n",
       "        vertical-align: middle;\n",
       "    }\n",
       "\n",
       "    .dataframe tbody tr th {\n",
       "        vertical-align: top;\n",
       "    }\n",
       "\n",
       "    .dataframe thead th {\n",
       "        text-align: right;\n",
       "    }\n",
       "</style>\n",
       "<table border=\"1\" class=\"dataframe\">\n",
       "  <thead>\n",
       "    <tr style=\"text-align: right;\">\n",
       "      <th></th>\n",
       "      <th>RPT</th>\n",
       "      <th>VAL</th>\n",
       "      <th>ROS</th>\n",
       "      <th>KIL</th>\n",
       "      <th>SHA</th>\n",
       "      <th>BIR</th>\n",
       "      <th>DUB</th>\n",
       "      <th>CLA</th>\n",
       "      <th>MUL</th>\n",
       "      <th>CLO</th>\n",
       "      <th>BEL</th>\n",
       "      <th>MAL</th>\n",
       "    </tr>\n",
       "  </thead>\n",
       "  <tbody>\n",
       "    <tr>\n",
       "      <th>Min</th>\n",
       "      <td>0.670000</td>\n",
       "      <td>0.210000</td>\n",
       "      <td>1.500000</td>\n",
       "      <td>0.000000</td>\n",
       "      <td>0.130000</td>\n",
       "      <td>0.000000</td>\n",
       "      <td>0.000000</td>\n",
       "      <td>0.000000</td>\n",
       "      <td>0.000000</td>\n",
       "      <td>0.040000</td>\n",
       "      <td>0.130000</td>\n",
       "      <td>0.670000</td>\n",
       "    </tr>\n",
       "    <tr>\n",
       "      <th>Max</th>\n",
       "      <td>35.800000</td>\n",
       "      <td>33.370000</td>\n",
       "      <td>33.840000</td>\n",
       "      <td>28.460000</td>\n",
       "      <td>37.540000</td>\n",
       "      <td>26.160000</td>\n",
       "      <td>30.370000</td>\n",
       "      <td>31.080000</td>\n",
       "      <td>25.880000</td>\n",
       "      <td>28.210000</td>\n",
       "      <td>42.380000</td>\n",
       "      <td>42.540000</td>\n",
       "    </tr>\n",
       "    <tr>\n",
       "      <th>Mean</th>\n",
       "      <td>12.362987</td>\n",
       "      <td>10.644314</td>\n",
       "      <td>11.660526</td>\n",
       "      <td>6.306468</td>\n",
       "      <td>10.455834</td>\n",
       "      <td>7.092254</td>\n",
       "      <td>9.797343</td>\n",
       "      <td>8.495053</td>\n",
       "      <td>8.493590</td>\n",
       "      <td>8.707332</td>\n",
       "      <td>13.121007</td>\n",
       "      <td>15.599079</td>\n",
       "    </tr>\n",
       "    <tr>\n",
       "      <th>Std</th>\n",
       "      <td>5.618413</td>\n",
       "      <td>5.267356</td>\n",
       "      <td>5.008450</td>\n",
       "      <td>3.605811</td>\n",
       "      <td>4.936125</td>\n",
       "      <td>3.968683</td>\n",
       "      <td>4.977555</td>\n",
       "      <td>4.499449</td>\n",
       "      <td>4.166872</td>\n",
       "      <td>4.503954</td>\n",
       "      <td>5.835037</td>\n",
       "      <td>6.699794</td>\n",
       "    </tr>\n",
       "  </tbody>\n",
       "</table>\n",
       "</div>"
      ],
      "text/plain": [
       "            RPT        VAL        ROS        KIL        SHA        BIR  \\\n",
       "Min    0.670000   0.210000   1.500000   0.000000   0.130000   0.000000   \n",
       "Max   35.800000  33.370000  33.840000  28.460000  37.540000  26.160000   \n",
       "Mean  12.362987  10.644314  11.660526   6.306468  10.455834   7.092254   \n",
       "Std    5.618413   5.267356   5.008450   3.605811   4.936125   3.968683   \n",
       "\n",
       "            DUB        CLA        MUL        CLO        BEL        MAL  \n",
       "Min    0.000000   0.000000   0.000000   0.040000   0.130000   0.670000  \n",
       "Max   30.370000  31.080000  25.880000  28.210000  42.380000  42.540000  \n",
       "Mean   9.797343   8.495053   8.493590   8.707332  13.121007  15.599079  \n",
       "Std    4.977555   4.499449   4.166872   4.503954   5.835037   6.699794  "
      ]
     },
     "execution_count": 116,
     "metadata": {},
     "output_type": "execute_result"
    }
   ],
   "source": [
    "loc_stats = newData.apply(stats)\n",
    "loc_stats"
   ]
  },
  {
   "cell_type": "markdown",
   "id": "7a6fcdae",
   "metadata": {},
   "source": [
    "Step 10. Create a DataFrame called day_stats and calculate the min, max and mean windspeed and standard deviations of the windspeeds across all the locations at each day. \n",
    "A different set of numbers for each day. "
   ]
  },
  {
   "cell_type": "code",
   "execution_count": 119,
   "id": "51781c93",
   "metadata": {},
   "outputs": [
    {
     "data": {
      "text/html": [
       "<div>\n",
       "<style scoped>\n",
       "    .dataframe tbody tr th:only-of-type {\n",
       "        vertical-align: middle;\n",
       "    }\n",
       "\n",
       "    .dataframe tbody tr th {\n",
       "        vertical-align: top;\n",
       "    }\n",
       "\n",
       "    .dataframe thead th {\n",
       "        text-align: right;\n",
       "    }\n",
       "</style>\n",
       "<table border=\"1\" class=\"dataframe\">\n",
       "  <thead>\n",
       "    <tr style=\"text-align: right;\">\n",
       "      <th></th>\n",
       "      <th>Min</th>\n",
       "      <th>Max</th>\n",
       "      <th>Mean</th>\n",
       "      <th>Std</th>\n",
       "    </tr>\n",
       "    <tr>\n",
       "      <th>Date</th>\n",
       "      <th></th>\n",
       "      <th></th>\n",
       "      <th></th>\n",
       "      <th></th>\n",
       "    </tr>\n",
       "  </thead>\n",
       "  <tbody>\n",
       "    <tr>\n",
       "      <th>1961-01-01</th>\n",
       "      <td>9.29</td>\n",
       "      <td>18.50</td>\n",
       "      <td>13.018182</td>\n",
       "      <td>2.808875</td>\n",
       "    </tr>\n",
       "    <tr>\n",
       "      <th>1961-01-02</th>\n",
       "      <td>6.50</td>\n",
       "      <td>17.54</td>\n",
       "      <td>11.336364</td>\n",
       "      <td>3.188994</td>\n",
       "    </tr>\n",
       "    <tr>\n",
       "      <th>1961-01-03</th>\n",
       "      <td>6.17</td>\n",
       "      <td>18.50</td>\n",
       "      <td>11.641818</td>\n",
       "      <td>3.681912</td>\n",
       "    </tr>\n",
       "    <tr>\n",
       "      <th>1961-01-04</th>\n",
       "      <td>1.79</td>\n",
       "      <td>11.75</td>\n",
       "      <td>6.619167</td>\n",
       "      <td>3.198126</td>\n",
       "    </tr>\n",
       "    <tr>\n",
       "      <th>1961-01-05</th>\n",
       "      <td>6.17</td>\n",
       "      <td>13.33</td>\n",
       "      <td>10.630000</td>\n",
       "      <td>2.445356</td>\n",
       "    </tr>\n",
       "  </tbody>\n",
       "</table>\n",
       "</div>"
      ],
      "text/plain": [
       "             Min    Max       Mean       Std\n",
       "Date                                        \n",
       "1961-01-01  9.29  18.50  13.018182  2.808875\n",
       "1961-01-02  6.50  17.54  11.336364  3.188994\n",
       "1961-01-03  6.17  18.50  11.641818  3.681912\n",
       "1961-01-04  1.79  11.75   6.619167  3.198126\n",
       "1961-01-05  6.17  13.33  10.630000  2.445356"
      ]
     },
     "execution_count": 119,
     "metadata": {},
     "output_type": "execute_result"
    }
   ],
   "source": [
    "day_stats = newData.apply(stats,axis=1)\n",
    "day_stats.head()"
   ]
  },
  {
   "cell_type": "markdown",
   "id": "6dee616f",
   "metadata": {},
   "source": [
    "Step 11. Find the average windspeed in January for each location. \n",
    "Treat January 1961 and January 1962 both as January. "
   ]
  },
  {
   "cell_type": "code",
   "execution_count": 120,
   "id": "709aaf22",
   "metadata": {},
   "outputs": [
    {
     "data": {
      "text/plain": [
       "RPT    14.847325\n",
       "VAL    12.914560\n",
       "ROS    13.299624\n",
       "KIL     7.199498\n",
       "SHA    11.667734\n",
       "BIR     8.054839\n",
       "DUB    11.819355\n",
       "CLA     9.512047\n",
       "MUL     9.543208\n",
       "CLO    10.053566\n",
       "BEL    14.550520\n",
       "MAL    18.028763\n",
       "dtype: float64"
      ]
     },
     "execution_count": 120,
     "metadata": {},
     "output_type": "execute_result"
    }
   ],
   "source": [
    "jan_data = newData[newData.index.month == 1]\n",
    "jan_data.mean()"
   ]
  },
  {
   "cell_type": "markdown",
   "id": "e9775c13",
   "metadata": {},
   "source": [
    "Step 12. Downsample the record to a yearly frequency for each location. "
   ]
  },
  {
   "cell_type": "code",
   "execution_count": 121,
   "id": "4f517a0f",
   "metadata": {},
   "outputs": [
    {
     "name": "stdout",
     "output_type": "stream",
     "text": [
      "Yearly:\n",
      "                   RPT        VAL        ROS       KIL        SHA       BIR  \\\n",
      "Date                                                                         \n",
      "1961-12-31  12.299583  10.351796  11.362369  6.958227  10.881763  7.729726   \n",
      "1962-12-31  12.246923  10.110438  11.732712  6.960440  10.657918  7.393068   \n",
      "1963-12-31  12.813452  10.836986  12.541151  7.330055  11.724110  8.434712   \n",
      "1964-12-31  12.363661  10.920164  12.104372  6.787787  11.454481  7.570874   \n",
      "1965-12-31  12.451370  11.075534  11.848767  6.858466  11.024795  7.478110   \n",
      "1966-12-31  13.461973  11.557205  12.020630  7.345726  11.805041  7.793671   \n",
      "1967-12-31  12.737151  10.990986  11.739397  7.143425  11.630740  7.368164   \n",
      "1968-12-31  11.835628  10.468197  11.409754  6.477678  10.760765  6.067322   \n",
      "1969-12-31  11.166356   9.723699  10.902000  5.767973   9.873918  6.189973   \n",
      "1970-12-31  12.600329  10.726932  11.730247  6.217178  10.567370  7.609452   \n",
      "1971-12-31  11.273123   9.095178  11.088329  5.241507   9.440329  6.097151   \n",
      "1972-12-31  12.463962  10.561311  12.058333  5.929699   9.430410  6.358825   \n",
      "1973-12-31  11.828466  10.680493  10.680493  5.547863   9.640877  6.548740   \n",
      "1974-12-31  13.643096  11.811781  12.336356  6.427041  11.110986  6.809781   \n",
      "1975-12-31  12.008575  10.293836  11.564712  5.269096   9.190082  5.668521   \n",
      "1976-12-31  11.737842  10.203115  10.761230  5.109426   8.846339  6.311038   \n",
      "1977-12-31  13.099616  11.144493  12.627836  6.073945  10.003836  8.586438   \n",
      "1978-12-31  12.504356  11.044274  11.380000  6.082356  10.167233  7.650658   \n",
      "\n",
      "                  DUB        CLA       MUL        CLO        BEL        MAL  \n",
      "Date                                                                         \n",
      "1961-12-31   9.733923   8.858788  8.647652   9.835577  13.502795  13.680773  \n",
      "1962-12-31  11.020712   8.793753  8.316822   9.676247  12.930685  14.323956  \n",
      "1963-12-31  11.075699  10.336548  8.903589  10.224438  13.638877  14.999014  \n",
      "1964-12-31  10.259153   9.467350  7.789016  10.207951  13.740546  14.910301  \n",
      "1965-12-31  10.618712   8.879918  7.907425   9.918082  12.964247  15.591644  \n",
      "1966-12-31  10.579808   8.835096  8.514438   9.768959  14.265836  16.307260  \n",
      "1967-12-31  10.652027   9.325616  8.645014   9.547425  14.774548  17.135945  \n",
      "1968-12-31   8.859180   8.255519  7.224945   7.832978  12.808634  15.017486  \n",
      "1969-12-31   8.564493   7.711397  7.924521   7.754384  12.621233  15.762904  \n",
      "1970-12-31   9.609890   8.334630  9.297616   8.289808  13.183644  16.456027  \n",
      "1971-12-31   8.385890   6.757315  7.915370   7.229753  12.208932  15.025233  \n",
      "1972-12-31   9.704508   7.680792  8.357295   7.515273  12.727377  15.028716  \n",
      "1973-12-31   8.482110   7.614274  8.245534   7.812411  12.169699  15.441096  \n",
      "1974-12-31  10.084603   9.896986  9.331753   8.736356  13.252959  16.947671  \n",
      "1975-12-31   8.562603   7.843836  8.797945   7.382822  12.631671  15.307863  \n",
      "1976-12-31   9.149126   7.146202  8.883716   7.883087  12.332377  15.471448  \n",
      "1977-12-31  11.523205   8.378384  9.098192   8.821616  13.459068  16.590849  \n",
      "1978-12-31   9.489342   8.800466  9.089753   8.301699  12.967397  16.771370  \n"
     ]
    }
   ],
   "source": [
    "print( \"Yearly:\\n\", newData.resample('A').mean())\n"
   ]
  },
  {
   "cell_type": "markdown",
   "id": "31b1be0a",
   "metadata": {},
   "source": [
    "Step 13. Downsample the record to a monthly frequency for each location. "
   ]
  },
  {
   "cell_type": "code",
   "execution_count": 122,
   "id": "f9c79402",
   "metadata": {},
   "outputs": [
    {
     "name": "stdout",
     "output_type": "stream",
     "text": [
      "Monthly:\n",
      "                   RPT        VAL        ROS       KIL        SHA        BIR  \\\n",
      "Date                                                                          \n",
      "1961-01-31  14.841333  11.988333  13.431613  7.736774  11.072759   8.588065   \n",
      "1961-02-28  16.269286  14.975357  14.441481  9.230741  13.852143  10.937500   \n",
      "1961-03-31  10.890000  11.296452  10.752903  7.284000  10.509355   8.866774   \n",
      "1961-04-30  10.722667   9.427667   9.998000  5.830667   8.435000   6.495000   \n",
      "1961-05-31   9.860968   8.850000  10.818065  5.905333   9.490323   6.574839   \n",
      "...               ...        ...        ...       ...        ...        ...   \n",
      "1978-08-31   9.645161   8.259355   9.032258  4.502903   7.368065   5.935161   \n",
      "1978-09-30  10.913667  10.895000  10.635000  5.725000  10.372000   9.278333   \n",
      "1978-10-31   9.897742   8.670968   9.295806  4.721290   8.525161   6.774194   \n",
      "1978-11-30  16.151667  14.802667  13.508000  7.317333  11.475000   8.743000   \n",
      "1978-12-31  16.175484  13.748065  15.635161  7.094839  11.398710   9.241613   \n",
      "\n",
      "                  DUB        CLA        MUL        CLO        BEL        MAL  \n",
      "Date                                                                          \n",
      "1961-01-31  11.184839   9.245333   9.085806  10.107419  13.880968  14.703226  \n",
      "1961-02-28  11.890714  11.846071  11.821429  12.714286  18.583214  15.411786  \n",
      "1961-03-31   9.644194   9.829677  10.294138  11.251935  16.410968  15.720000  \n",
      "1961-04-30   6.925333   7.094667   7.342333   7.237000  11.147333  10.278333  \n",
      "1961-05-31   7.604000   8.177097   8.039355   8.499355  11.900323  12.011613  \n",
      "...               ...        ...        ...        ...        ...        ...  \n",
      "1978-08-31   5.650323   5.417742   7.241290   5.536774  10.466774  12.054194  \n",
      "1978-09-30  10.790333   9.583000  10.069333   8.939000  15.680333  19.391333  \n",
      "1978-10-31   8.115484   7.337742   8.297742   8.243871  13.776774  17.150000  \n",
      "1978-11-30  11.492333   9.657333  10.701333  10.676000  17.404667  20.723000  \n",
      "1978-12-31  12.077419  10.194839  10.616774  11.028710  13.859677  21.371613  \n",
      "\n",
      "[216 rows x 12 columns]\n"
     ]
    }
   ],
   "source": [
    "print(\"Monthly:\\n\", newData.resample('M').mean())"
   ]
  },
  {
   "cell_type": "markdown",
   "id": "8faa4a36",
   "metadata": {},
   "source": [
    "Step 14. Downsample the record to a weekly frequency for each location. "
   ]
  },
  {
   "cell_type": "code",
   "execution_count": 123,
   "id": "4958a3dc",
   "metadata": {},
   "outputs": [
    {
     "name": "stdout",
     "output_type": "stream",
     "text": [
      "Weekly:\n",
      "                   RPT        VAL        ROS        KIL        SHA        BIR  \\\n",
      "Date                                                                           \n",
      "1961-01-01  15.040000  14.960000  13.170000   9.290000        NaN   9.870000   \n",
      "1961-01-08  13.541429  11.486667  10.487143   6.417143   9.474286   6.435714   \n",
      "1961-01-15  12.468571   8.967143  11.958571   4.630000   7.351429   5.072857   \n",
      "1961-01-22  13.204286   9.862857  12.982857   6.328571   8.966667   7.417143   \n",
      "1961-01-29  19.880000  16.141429  18.225714  12.720000  17.432857  14.828571   \n",
      "...               ...        ...        ...        ...        ...        ...   \n",
      "1978-12-03  14.934286  11.232857  13.941429   5.565714  10.215714   8.618571   \n",
      "1978-12-10  20.740000  19.190000  17.034286   9.777143  15.287143  12.774286   \n",
      "1978-12-17  16.758571  14.692857  14.987143   6.917143  11.397143   7.272857   \n",
      "1978-12-24  11.155714   8.008571  13.172857   4.004286   7.825714   6.290000   \n",
      "1978-12-31  14.951429  11.801429  16.035714   6.507143   9.660000   8.620000   \n",
      "\n",
      "                  DUB        CLA        MUL        CLO        BEL        MAL  \n",
      "Date                                                                          \n",
      "1961-01-01  13.670000  10.250000  10.830000  12.580000  18.500000  15.040000  \n",
      "1961-01-08  11.061429   6.616667   8.434286   8.497143  12.481429  13.238571  \n",
      "1961-01-15   7.535714   6.820000   5.712857   7.571429  11.125714  11.024286  \n",
      "1961-01-22   9.257143   7.875714   7.145714   8.124286   9.821429  11.434286  \n",
      "1961-01-29  15.528571  15.160000  14.480000  15.640000  20.930000  22.530000  \n",
      "...               ...        ...        ...        ...        ...        ...  \n",
      "1978-12-03   9.642857   7.685714   9.011429   9.547143  11.835714  18.728571  \n",
      "1978-12-10  14.437143  12.488571  13.870000  14.082857  18.517143  23.061429  \n",
      "1978-12-17  10.208571   7.967143   9.168571   8.565714  11.102857  15.562857  \n",
      "1978-12-24   7.798571   8.667143   7.151429   8.072857  11.845714  18.977143  \n",
      "1978-12-31  13.708571  10.477143  10.868571  11.471429  12.947143  26.844286  \n",
      "\n",
      "[940 rows x 12 columns]\n"
     ]
    }
   ],
   "source": [
    "print(\"Weekly:\\n\", newData.resample('W').mean())"
   ]
  },
  {
   "cell_type": "markdown",
   "id": "a053d4b5",
   "metadata": {},
   "source": [
    "Step 15. Calculate the min, max and mean windspeeds and standard deviations of the windspeeds across all locations for each week (assume that the first week starts on January 2 1961) for the first 52 weeks. "
   ]
  },
  {
   "cell_type": "code",
   "execution_count": 124,
   "id": "561baaa9",
   "metadata": {},
   "outputs": [
    {
     "name": "stdout",
     "output_type": "stream",
     "text": [
      "          RPT         VAL         ROS         KIL         SHA         BIR  \\\n",
      "0  940.000000  940.000000  940.000000  940.000000  939.000000  940.000000   \n",
      "1    3.874286    2.452857    4.901429    1.447143    2.775714    1.382857   \n",
      "2   24.010000   23.715714   21.384286   14.517143   22.897143   16.010000   \n",
      "3   12.365304   10.647725   11.661255    6.309334   10.455607    7.094787   \n",
      "4    3.466600    3.372501    2.840361    2.186432    3.146715    2.556633   \n",
      "\n",
      "          DUB         CLA         MUL         CLO         BEL         MAL  \n",
      "0  940.000000  940.000000  940.000000  940.000000  940.000000  940.000000  \n",
      "1    2.471429    2.284286    2.262857    1.571429    3.661429    5.124286  \n",
      "2   20.474286   17.861429   17.460000   17.932857   26.617143   30.374286  \n",
      "3    9.801271    8.496123    8.496452    8.710639   13.125912   15.597171  \n",
      "4    3.308180    2.853029    2.638349    2.924546    3.757189    4.468526  \n"
     ]
    }
   ],
   "source": [
    "stats1 = newData.resample('W').mean().apply(lambda x: [x.count(),x.min(),x.max(),x.mean(),x.std()])\n",
    "print(stats1)"
   ]
  },
  {
   "cell_type": "markdown",
   "id": "f29f0658",
   "metadata": {},
   "source": [
    "Question 5"
   ]
  },
  {
   "cell_type": "markdown",
   "id": "9b738db1",
   "metadata": {},
   "source": [
    "Step 1: Import the necessary libraries "
   ]
  },
  {
   "cell_type": "code",
   "execution_count": 125,
   "id": "55678d68",
   "metadata": {},
   "outputs": [],
   "source": [
    "import pandas as pd\n",
    "import numpy as np"
   ]
  },
  {
   "cell_type": "markdown",
   "id": "5f1b0466",
   "metadata": {},
   "source": [
    "Step 2. Import the dataset from this address. \n",
    "Step 3. Assign it to a variable called chipo. "
   ]
  },
  {
   "cell_type": "code",
   "execution_count": 126,
   "id": "4056ea7c",
   "metadata": {},
   "outputs": [],
   "source": [
    "chipo = pd.read_csv('https://raw.githubusercontent.com/justmarkham/DAT8/master/data/chipotle.tsv', sep = '\\t')"
   ]
  },
  {
   "cell_type": "markdown",
   "id": "a792b1b5",
   "metadata": {},
   "source": [
    "Step 4. See the first 10 entries "
   ]
  },
  {
   "cell_type": "code",
   "execution_count": 127,
   "id": "855ae5db",
   "metadata": {},
   "outputs": [
    {
     "data": {
      "text/html": [
       "<div>\n",
       "<style scoped>\n",
       "    .dataframe tbody tr th:only-of-type {\n",
       "        vertical-align: middle;\n",
       "    }\n",
       "\n",
       "    .dataframe tbody tr th {\n",
       "        vertical-align: top;\n",
       "    }\n",
       "\n",
       "    .dataframe thead th {\n",
       "        text-align: right;\n",
       "    }\n",
       "</style>\n",
       "<table border=\"1\" class=\"dataframe\">\n",
       "  <thead>\n",
       "    <tr style=\"text-align: right;\">\n",
       "      <th></th>\n",
       "      <th>order_id</th>\n",
       "      <th>quantity</th>\n",
       "      <th>item_name</th>\n",
       "      <th>choice_description</th>\n",
       "      <th>item_price</th>\n",
       "    </tr>\n",
       "  </thead>\n",
       "  <tbody>\n",
       "    <tr>\n",
       "      <th>0</th>\n",
       "      <td>1</td>\n",
       "      <td>1</td>\n",
       "      <td>Chips and Fresh Tomato Salsa</td>\n",
       "      <td>NaN</td>\n",
       "      <td>$2.39</td>\n",
       "    </tr>\n",
       "    <tr>\n",
       "      <th>1</th>\n",
       "      <td>1</td>\n",
       "      <td>1</td>\n",
       "      <td>Izze</td>\n",
       "      <td>[Clementine]</td>\n",
       "      <td>$3.39</td>\n",
       "    </tr>\n",
       "    <tr>\n",
       "      <th>2</th>\n",
       "      <td>1</td>\n",
       "      <td>1</td>\n",
       "      <td>Nantucket Nectar</td>\n",
       "      <td>[Apple]</td>\n",
       "      <td>$3.39</td>\n",
       "    </tr>\n",
       "    <tr>\n",
       "      <th>3</th>\n",
       "      <td>1</td>\n",
       "      <td>1</td>\n",
       "      <td>Chips and Tomatillo-Green Chili Salsa</td>\n",
       "      <td>NaN</td>\n",
       "      <td>$2.39</td>\n",
       "    </tr>\n",
       "    <tr>\n",
       "      <th>4</th>\n",
       "      <td>2</td>\n",
       "      <td>2</td>\n",
       "      <td>Chicken Bowl</td>\n",
       "      <td>[Tomatillo-Red Chili Salsa (Hot), [Black Beans...</td>\n",
       "      <td>$16.98</td>\n",
       "    </tr>\n",
       "    <tr>\n",
       "      <th>5</th>\n",
       "      <td>3</td>\n",
       "      <td>1</td>\n",
       "      <td>Chicken Bowl</td>\n",
       "      <td>[Fresh Tomato Salsa (Mild), [Rice, Cheese, Sou...</td>\n",
       "      <td>$10.98</td>\n",
       "    </tr>\n",
       "    <tr>\n",
       "      <th>6</th>\n",
       "      <td>3</td>\n",
       "      <td>1</td>\n",
       "      <td>Side of Chips</td>\n",
       "      <td>NaN</td>\n",
       "      <td>$1.69</td>\n",
       "    </tr>\n",
       "    <tr>\n",
       "      <th>7</th>\n",
       "      <td>4</td>\n",
       "      <td>1</td>\n",
       "      <td>Steak Burrito</td>\n",
       "      <td>[Tomatillo Red Chili Salsa, [Fajita Vegetables...</td>\n",
       "      <td>$11.75</td>\n",
       "    </tr>\n",
       "    <tr>\n",
       "      <th>8</th>\n",
       "      <td>4</td>\n",
       "      <td>1</td>\n",
       "      <td>Steak Soft Tacos</td>\n",
       "      <td>[Tomatillo Green Chili Salsa, [Pinto Beans, Ch...</td>\n",
       "      <td>$9.25</td>\n",
       "    </tr>\n",
       "    <tr>\n",
       "      <th>9</th>\n",
       "      <td>5</td>\n",
       "      <td>1</td>\n",
       "      <td>Steak Burrito</td>\n",
       "      <td>[Fresh Tomato Salsa, [Rice, Black Beans, Pinto...</td>\n",
       "      <td>$9.25</td>\n",
       "    </tr>\n",
       "  </tbody>\n",
       "</table>\n",
       "</div>"
      ],
      "text/plain": [
       "   order_id  quantity                              item_name  \\\n",
       "0         1         1           Chips and Fresh Tomato Salsa   \n",
       "1         1         1                                   Izze   \n",
       "2         1         1                       Nantucket Nectar   \n",
       "3         1         1  Chips and Tomatillo-Green Chili Salsa   \n",
       "4         2         2                           Chicken Bowl   \n",
       "5         3         1                           Chicken Bowl   \n",
       "6         3         1                          Side of Chips   \n",
       "7         4         1                          Steak Burrito   \n",
       "8         4         1                       Steak Soft Tacos   \n",
       "9         5         1                          Steak Burrito   \n",
       "\n",
       "                                  choice_description item_price  \n",
       "0                                                NaN     $2.39   \n",
       "1                                       [Clementine]     $3.39   \n",
       "2                                            [Apple]     $3.39   \n",
       "3                                                NaN     $2.39   \n",
       "4  [Tomatillo-Red Chili Salsa (Hot), [Black Beans...    $16.98   \n",
       "5  [Fresh Tomato Salsa (Mild), [Rice, Cheese, Sou...    $10.98   \n",
       "6                                                NaN     $1.69   \n",
       "7  [Tomatillo Red Chili Salsa, [Fajita Vegetables...    $11.75   \n",
       "8  [Tomatillo Green Chili Salsa, [Pinto Beans, Ch...     $9.25   \n",
       "9  [Fresh Tomato Salsa, [Rice, Black Beans, Pinto...     $9.25   "
      ]
     },
     "execution_count": 127,
     "metadata": {},
     "output_type": "execute_result"
    }
   ],
   "source": [
    "chipo.head(10)"
   ]
  },
  {
   "cell_type": "markdown",
   "id": "70947d2e",
   "metadata": {},
   "source": [
    "Step 5. What is the number of observations in the dataset? "
   ]
  },
  {
   "cell_type": "code",
   "execution_count": 128,
   "id": "ecadaf89",
   "metadata": {},
   "outputs": [
    {
     "data": {
      "text/plain": [
       "4622"
      ]
     },
     "execution_count": 128,
     "metadata": {},
     "output_type": "execute_result"
    }
   ],
   "source": [
    "chipo.shape[0]"
   ]
  },
  {
   "cell_type": "markdown",
   "id": "67d9f1ae",
   "metadata": {},
   "source": [
    "Step 6. What is the number of columns in the dataset? "
   ]
  },
  {
   "cell_type": "code",
   "execution_count": 129,
   "id": "f4063d46",
   "metadata": {},
   "outputs": [
    {
     "data": {
      "text/plain": [
       "5"
      ]
     },
     "execution_count": 129,
     "metadata": {},
     "output_type": "execute_result"
    }
   ],
   "source": [
    "chipo.shape[1]"
   ]
  },
  {
   "cell_type": "markdown",
   "id": "d214b752",
   "metadata": {},
   "source": [
    "Step 7. Print the name of all the columns. "
   ]
  },
  {
   "cell_type": "code",
   "execution_count": 130,
   "id": "2c08f6bd",
   "metadata": {},
   "outputs": [
    {
     "data": {
      "text/plain": [
       "Index(['order_id', 'quantity', 'item_name', 'choice_description',\n",
       "       'item_price'],\n",
       "      dtype='object')"
      ]
     },
     "execution_count": 130,
     "metadata": {},
     "output_type": "execute_result"
    }
   ],
   "source": [
    "chipo.columns"
   ]
  },
  {
   "cell_type": "markdown",
   "id": "adeebcdd",
   "metadata": {},
   "source": [
    "Step 8. How is the dataset indexed? "
   ]
  },
  {
   "cell_type": "code",
   "execution_count": 131,
   "id": "378a69cb",
   "metadata": {},
   "outputs": [
    {
     "data": {
      "text/plain": [
       "RangeIndex(start=0, stop=4622, step=1)"
      ]
     },
     "execution_count": 131,
     "metadata": {},
     "output_type": "execute_result"
    }
   ],
   "source": [
    "chipo.index"
   ]
  },
  {
   "cell_type": "markdown",
   "id": "c36dd7ff",
   "metadata": {},
   "source": [
    "Step 9. Which was the most-ordered item? "
   ]
  },
  {
   "cell_type": "code",
   "execution_count": 132,
   "id": "dbe2e5f9",
   "metadata": {},
   "outputs": [
    {
     "data": {
      "text/html": [
       "<div>\n",
       "<style scoped>\n",
       "    .dataframe tbody tr th:only-of-type {\n",
       "        vertical-align: middle;\n",
       "    }\n",
       "\n",
       "    .dataframe tbody tr th {\n",
       "        vertical-align: top;\n",
       "    }\n",
       "\n",
       "    .dataframe thead th {\n",
       "        text-align: right;\n",
       "    }\n",
       "</style>\n",
       "<table border=\"1\" class=\"dataframe\">\n",
       "  <thead>\n",
       "    <tr style=\"text-align: right;\">\n",
       "      <th></th>\n",
       "      <th>order_id</th>\n",
       "      <th>quantity</th>\n",
       "    </tr>\n",
       "    <tr>\n",
       "      <th>item_name</th>\n",
       "      <th></th>\n",
       "      <th></th>\n",
       "    </tr>\n",
       "  </thead>\n",
       "  <tbody>\n",
       "    <tr>\n",
       "      <th>Chicken Bowl</th>\n",
       "      <td>713926</td>\n",
       "      <td>761</td>\n",
       "    </tr>\n",
       "    <tr>\n",
       "      <th>Chicken Burrito</th>\n",
       "      <td>497303</td>\n",
       "      <td>591</td>\n",
       "    </tr>\n",
       "    <tr>\n",
       "      <th>Chips and Guacamole</th>\n",
       "      <td>449959</td>\n",
       "      <td>506</td>\n",
       "    </tr>\n",
       "    <tr>\n",
       "      <th>Steak Burrito</th>\n",
       "      <td>328437</td>\n",
       "      <td>386</td>\n",
       "    </tr>\n",
       "    <tr>\n",
       "      <th>Canned Soft Drink</th>\n",
       "      <td>304753</td>\n",
       "      <td>351</td>\n",
       "    </tr>\n",
       "  </tbody>\n",
       "</table>\n",
       "</div>"
      ],
      "text/plain": [
       "                     order_id  quantity\n",
       "item_name                              \n",
       "Chicken Bowl           713926       761\n",
       "Chicken Burrito        497303       591\n",
       "Chips and Guacamole    449959       506\n",
       "Steak Burrito          328437       386\n",
       "Canned Soft Drink      304753       351"
      ]
     },
     "execution_count": 132,
     "metadata": {},
     "output_type": "execute_result"
    }
   ],
   "source": [
    "item = chipo.groupby('item_name')\n",
    "item = item.sum()\n",
    "item = item.sort_values(['quantity'], ascending=False)\n",
    "item.head()"
   ]
  },
  {
   "cell_type": "code",
   "execution_count": 133,
   "id": "b00c2b31",
   "metadata": {},
   "outputs": [
    {
     "data": {
      "text/html": [
       "<div>\n",
       "<style scoped>\n",
       "    .dataframe tbody tr th:only-of-type {\n",
       "        vertical-align: middle;\n",
       "    }\n",
       "\n",
       "    .dataframe tbody tr th {\n",
       "        vertical-align: top;\n",
       "    }\n",
       "\n",
       "    .dataframe thead th {\n",
       "        text-align: right;\n",
       "    }\n",
       "</style>\n",
       "<table border=\"1\" class=\"dataframe\">\n",
       "  <thead>\n",
       "    <tr style=\"text-align: right;\">\n",
       "      <th></th>\n",
       "      <th>order_id</th>\n",
       "      <th>quantity</th>\n",
       "    </tr>\n",
       "    <tr>\n",
       "      <th>item_name</th>\n",
       "      <th></th>\n",
       "      <th></th>\n",
       "    </tr>\n",
       "  </thead>\n",
       "  <tbody>\n",
       "    <tr>\n",
       "      <th>Chicken Bowl</th>\n",
       "      <td>713926</td>\n",
       "      <td>761</td>\n",
       "    </tr>\n",
       "  </tbody>\n",
       "</table>\n",
       "</div>"
      ],
      "text/plain": [
       "              order_id  quantity\n",
       "item_name                       \n",
       "Chicken Bowl    713926       761"
      ]
     },
     "execution_count": 133,
     "metadata": {},
     "output_type": "execute_result"
    }
   ],
   "source": [
    "item.head(1)"
   ]
  },
  {
   "cell_type": "markdown",
   "id": "e0517b92",
   "metadata": {},
   "source": [
    "Step 10. For the most-ordered item, how many items were ordered? "
   ]
  },
  {
   "cell_type": "code",
   "execution_count": 134,
   "id": "80f123b0",
   "metadata": {},
   "outputs": [
    {
     "data": {
      "text/html": [
       "<div>\n",
       "<style scoped>\n",
       "    .dataframe tbody tr th:only-of-type {\n",
       "        vertical-align: middle;\n",
       "    }\n",
       "\n",
       "    .dataframe tbody tr th {\n",
       "        vertical-align: top;\n",
       "    }\n",
       "\n",
       "    .dataframe thead th {\n",
       "        text-align: right;\n",
       "    }\n",
       "</style>\n",
       "<table border=\"1\" class=\"dataframe\">\n",
       "  <thead>\n",
       "    <tr style=\"text-align: right;\">\n",
       "      <th></th>\n",
       "      <th>order_id</th>\n",
       "      <th>quantity</th>\n",
       "    </tr>\n",
       "    <tr>\n",
       "      <th>item_name</th>\n",
       "      <th></th>\n",
       "      <th></th>\n",
       "    </tr>\n",
       "  </thead>\n",
       "  <tbody>\n",
       "    <tr>\n",
       "      <th>Chicken Bowl</th>\n",
       "      <td>713926</td>\n",
       "      <td>761</td>\n",
       "    </tr>\n",
       "  </tbody>\n",
       "</table>\n",
       "</div>"
      ],
      "text/plain": [
       "              order_id  quantity\n",
       "item_name                       \n",
       "Chicken Bowl    713926       761"
      ]
     },
     "execution_count": 134,
     "metadata": {},
     "output_type": "execute_result"
    }
   ],
   "source": [
    "c = chipo.groupby('item_name').sum().sort_values(['quantity'], ascending=False)\n",
    "c.head(1)"
   ]
  },
  {
   "cell_type": "markdown",
   "id": "68b9de30",
   "metadata": {},
   "source": [
    "Step 11. What was the most ordered item in the choice_description column? "
   ]
  },
  {
   "cell_type": "code",
   "execution_count": 135,
   "id": "eb6abbdd",
   "metadata": {},
   "outputs": [
    {
     "data": {
      "text/html": [
       "<div>\n",
       "<style scoped>\n",
       "    .dataframe tbody tr th:only-of-type {\n",
       "        vertical-align: middle;\n",
       "    }\n",
       "\n",
       "    .dataframe tbody tr th {\n",
       "        vertical-align: top;\n",
       "    }\n",
       "\n",
       "    .dataframe thead th {\n",
       "        text-align: right;\n",
       "    }\n",
       "</style>\n",
       "<table border=\"1\" class=\"dataframe\">\n",
       "  <thead>\n",
       "    <tr style=\"text-align: right;\">\n",
       "      <th></th>\n",
       "      <th>order_id</th>\n",
       "      <th>quantity</th>\n",
       "    </tr>\n",
       "    <tr>\n",
       "      <th>choice_description</th>\n",
       "      <th></th>\n",
       "      <th></th>\n",
       "    </tr>\n",
       "  </thead>\n",
       "  <tbody>\n",
       "    <tr>\n",
       "      <th>[Diet Coke]</th>\n",
       "      <td>123455</td>\n",
       "      <td>159</td>\n",
       "    </tr>\n",
       "  </tbody>\n",
       "</table>\n",
       "</div>"
      ],
      "text/plain": [
       "                    order_id  quantity\n",
       "choice_description                    \n",
       "[Diet Coke]           123455       159"
      ]
     },
     "execution_count": 135,
     "metadata": {},
     "output_type": "execute_result"
    }
   ],
   "source": [
    "chipo.groupby('choice_description').sum().sort_values(['quantity'], ascending=False).head(1)"
   ]
  },
  {
   "cell_type": "markdown",
   "id": "cd49e58d",
   "metadata": {},
   "source": [
    "Step 12. How many items were orderd in total? "
   ]
  },
  {
   "cell_type": "code",
   "execution_count": 136,
   "id": "15b4e82a",
   "metadata": {},
   "outputs": [
    {
     "data": {
      "text/plain": [
       "4972"
      ]
     },
     "execution_count": 136,
     "metadata": {},
     "output_type": "execute_result"
    }
   ],
   "source": [
    "chipo.quantity.sum()"
   ]
  },
  {
   "cell_type": "code",
   "execution_count": null,
   "id": "f844fdd3",
   "metadata": {},
   "outputs": [],
   "source": [
    "Step 13.\n",
    "• Turn the item price into a float \n",
    "• Check the item price type \n",
    "• Create a lambda function and change the type of item price \n",
    "• Check the item price type "
   ]
  },
  {
   "cell_type": "code",
   "execution_count": 137,
   "id": "5a222cfd",
   "metadata": {},
   "outputs": [
    {
     "data": {
      "text/plain": [
       "dtype('O')"
      ]
     },
     "execution_count": 137,
     "metadata": {},
     "output_type": "execute_result"
    }
   ],
   "source": [
    "chipo.item_price.dtype"
   ]
  },
  {
   "cell_type": "code",
   "execution_count": 142,
   "id": "70d2c24c",
   "metadata": {},
   "outputs": [
    {
     "ename": "TypeError",
     "evalue": "'float' object is not subscriptable",
     "output_type": "error",
     "traceback": [
      "\u001b[1;31m---------------------------------------------------------------------------\u001b[0m",
      "\u001b[1;31mTypeError\u001b[0m                                 Traceback (most recent call last)",
      "Input \u001b[1;32mIn [142]\u001b[0m, in \u001b[0;36m<cell line: 2>\u001b[1;34m()\u001b[0m\n\u001b[0;32m      1\u001b[0m chgType \u001b[38;5;241m=\u001b[39m \u001b[38;5;28;01mlambda\u001b[39;00m x: \u001b[38;5;28mfloat\u001b[39m(x[\u001b[38;5;241m1\u001b[39m:\u001b[38;5;241m-\u001b[39m\u001b[38;5;241m1\u001b[39m])\n\u001b[1;32m----> 2\u001b[0m chipo\u001b[38;5;241m.\u001b[39mitem_price \u001b[38;5;241m=\u001b[39m \u001b[43mchipo\u001b[49m\u001b[38;5;241;43m.\u001b[39;49m\u001b[43mitem_price\u001b[49m\u001b[38;5;241;43m.\u001b[39;49m\u001b[43mapply\u001b[49m\u001b[43m(\u001b[49m\u001b[43mchgType\u001b[49m\u001b[43m)\u001b[49m\n",
      "File \u001b[1;32m~\\anaconda3\\lib\\site-packages\\pandas\\core\\series.py:4433\u001b[0m, in \u001b[0;36mSeries.apply\u001b[1;34m(self, func, convert_dtype, args, **kwargs)\u001b[0m\n\u001b[0;32m   4323\u001b[0m \u001b[38;5;28;01mdef\u001b[39;00m \u001b[38;5;21mapply\u001b[39m(\n\u001b[0;32m   4324\u001b[0m     \u001b[38;5;28mself\u001b[39m,\n\u001b[0;32m   4325\u001b[0m     func: AggFuncType,\n\u001b[1;32m   (...)\u001b[0m\n\u001b[0;32m   4328\u001b[0m     \u001b[38;5;241m*\u001b[39m\u001b[38;5;241m*\u001b[39mkwargs,\n\u001b[0;32m   4329\u001b[0m ) \u001b[38;5;241m-\u001b[39m\u001b[38;5;241m>\u001b[39m DataFrame \u001b[38;5;241m|\u001b[39m Series:\n\u001b[0;32m   4330\u001b[0m     \u001b[38;5;124;03m\"\"\"\u001b[39;00m\n\u001b[0;32m   4331\u001b[0m \u001b[38;5;124;03m    Invoke function on values of Series.\u001b[39;00m\n\u001b[0;32m   4332\u001b[0m \n\u001b[1;32m   (...)\u001b[0m\n\u001b[0;32m   4431\u001b[0m \u001b[38;5;124;03m    dtype: float64\u001b[39;00m\n\u001b[0;32m   4432\u001b[0m \u001b[38;5;124;03m    \"\"\"\u001b[39;00m\n\u001b[1;32m-> 4433\u001b[0m     \u001b[38;5;28;01mreturn\u001b[39;00m \u001b[43mSeriesApply\u001b[49m\u001b[43m(\u001b[49m\u001b[38;5;28;43mself\u001b[39;49m\u001b[43m,\u001b[49m\u001b[43m \u001b[49m\u001b[43mfunc\u001b[49m\u001b[43m,\u001b[49m\u001b[43m \u001b[49m\u001b[43mconvert_dtype\u001b[49m\u001b[43m,\u001b[49m\u001b[43m \u001b[49m\u001b[43margs\u001b[49m\u001b[43m,\u001b[49m\u001b[43m \u001b[49m\u001b[43mkwargs\u001b[49m\u001b[43m)\u001b[49m\u001b[38;5;241;43m.\u001b[39;49m\u001b[43mapply\u001b[49m\u001b[43m(\u001b[49m\u001b[43m)\u001b[49m\n",
      "File \u001b[1;32m~\\anaconda3\\lib\\site-packages\\pandas\\core\\apply.py:1082\u001b[0m, in \u001b[0;36mSeriesApply.apply\u001b[1;34m(self)\u001b[0m\n\u001b[0;32m   1078\u001b[0m \u001b[38;5;28;01mif\u001b[39;00m \u001b[38;5;28misinstance\u001b[39m(\u001b[38;5;28mself\u001b[39m\u001b[38;5;241m.\u001b[39mf, \u001b[38;5;28mstr\u001b[39m):\n\u001b[0;32m   1079\u001b[0m     \u001b[38;5;66;03m# if we are a string, try to dispatch\u001b[39;00m\n\u001b[0;32m   1080\u001b[0m     \u001b[38;5;28;01mreturn\u001b[39;00m \u001b[38;5;28mself\u001b[39m\u001b[38;5;241m.\u001b[39mapply_str()\n\u001b[1;32m-> 1082\u001b[0m \u001b[38;5;28;01mreturn\u001b[39;00m \u001b[38;5;28;43mself\u001b[39;49m\u001b[38;5;241;43m.\u001b[39;49m\u001b[43mapply_standard\u001b[49m\u001b[43m(\u001b[49m\u001b[43m)\u001b[49m\n",
      "File \u001b[1;32m~\\anaconda3\\lib\\site-packages\\pandas\\core\\apply.py:1137\u001b[0m, in \u001b[0;36mSeriesApply.apply_standard\u001b[1;34m(self)\u001b[0m\n\u001b[0;32m   1131\u001b[0m         values \u001b[38;5;241m=\u001b[39m obj\u001b[38;5;241m.\u001b[39mastype(\u001b[38;5;28mobject\u001b[39m)\u001b[38;5;241m.\u001b[39m_values\n\u001b[0;32m   1132\u001b[0m         \u001b[38;5;66;03m# error: Argument 2 to \"map_infer\" has incompatible type\u001b[39;00m\n\u001b[0;32m   1133\u001b[0m         \u001b[38;5;66;03m# \"Union[Callable[..., Any], str, List[Union[Callable[..., Any], str]],\u001b[39;00m\n\u001b[0;32m   1134\u001b[0m         \u001b[38;5;66;03m# Dict[Hashable, Union[Union[Callable[..., Any], str],\u001b[39;00m\n\u001b[0;32m   1135\u001b[0m         \u001b[38;5;66;03m# List[Union[Callable[..., Any], str]]]]]\"; expected\u001b[39;00m\n\u001b[0;32m   1136\u001b[0m         \u001b[38;5;66;03m# \"Callable[[Any], Any]\"\u001b[39;00m\n\u001b[1;32m-> 1137\u001b[0m         mapped \u001b[38;5;241m=\u001b[39m \u001b[43mlib\u001b[49m\u001b[38;5;241;43m.\u001b[39;49m\u001b[43mmap_infer\u001b[49m\u001b[43m(\u001b[49m\n\u001b[0;32m   1138\u001b[0m \u001b[43m            \u001b[49m\u001b[43mvalues\u001b[49m\u001b[43m,\u001b[49m\n\u001b[0;32m   1139\u001b[0m \u001b[43m            \u001b[49m\u001b[43mf\u001b[49m\u001b[43m,\u001b[49m\u001b[43m  \u001b[49m\u001b[38;5;66;43;03m# type: ignore[arg-type]\u001b[39;49;00m\n\u001b[0;32m   1140\u001b[0m \u001b[43m            \u001b[49m\u001b[43mconvert\u001b[49m\u001b[38;5;241;43m=\u001b[39;49m\u001b[38;5;28;43mself\u001b[39;49m\u001b[38;5;241;43m.\u001b[39;49m\u001b[43mconvert_dtype\u001b[49m\u001b[43m,\u001b[49m\n\u001b[0;32m   1141\u001b[0m \u001b[43m        \u001b[49m\u001b[43m)\u001b[49m\n\u001b[0;32m   1143\u001b[0m \u001b[38;5;28;01mif\u001b[39;00m \u001b[38;5;28mlen\u001b[39m(mapped) \u001b[38;5;129;01mand\u001b[39;00m \u001b[38;5;28misinstance\u001b[39m(mapped[\u001b[38;5;241m0\u001b[39m], ABCSeries):\n\u001b[0;32m   1144\u001b[0m     \u001b[38;5;66;03m# GH#43986 Need to do list(mapped) in order to get treated as nested\u001b[39;00m\n\u001b[0;32m   1145\u001b[0m     \u001b[38;5;66;03m#  See also GH#25959 regarding EA support\u001b[39;00m\n\u001b[0;32m   1146\u001b[0m     \u001b[38;5;28;01mreturn\u001b[39;00m obj\u001b[38;5;241m.\u001b[39m_constructor_expanddim(\u001b[38;5;28mlist\u001b[39m(mapped), index\u001b[38;5;241m=\u001b[39mobj\u001b[38;5;241m.\u001b[39mindex)\n",
      "File \u001b[1;32m~\\anaconda3\\lib\\site-packages\\pandas\\_libs\\lib.pyx:2870\u001b[0m, in \u001b[0;36mpandas._libs.lib.map_infer\u001b[1;34m()\u001b[0m\n",
      "Input \u001b[1;32mIn [142]\u001b[0m, in \u001b[0;36m<lambda>\u001b[1;34m(x)\u001b[0m\n\u001b[1;32m----> 1\u001b[0m chgType \u001b[38;5;241m=\u001b[39m \u001b[38;5;28;01mlambda\u001b[39;00m x: \u001b[38;5;28mfloat\u001b[39m(\u001b[43mx\u001b[49m\u001b[43m[\u001b[49m\u001b[38;5;241;43m1\u001b[39;49m\u001b[43m:\u001b[49m\u001b[38;5;241;43m-\u001b[39;49m\u001b[38;5;241;43m1\u001b[39;49m\u001b[43m]\u001b[49m)\n\u001b[0;32m      2\u001b[0m chipo\u001b[38;5;241m.\u001b[39mitem_price \u001b[38;5;241m=\u001b[39m chipo\u001b[38;5;241m.\u001b[39mitem_price\u001b[38;5;241m.\u001b[39mapply(chgType)\n",
      "\u001b[1;31mTypeError\u001b[0m: 'float' object is not subscriptable"
     ]
    }
   ],
   "source": [
    "chgType = lambda x: float(x[1:-1])\n",
    "chipo.item_price = chipo.item_price.apply(chgType)"
   ]
  },
  {
   "cell_type": "code",
   "execution_count": 140,
   "id": "4ddef68c",
   "metadata": {},
   "outputs": [
    {
     "data": {
      "text/plain": [
       "dtype('float64')"
      ]
     },
     "execution_count": 140,
     "metadata": {},
     "output_type": "execute_result"
    }
   ],
   "source": [
    "chipo.item_price.dtype"
   ]
  },
  {
   "cell_type": "raw",
   "id": "c1b0b886",
   "metadata": {},
   "source": [
    "Step 14. How much was the revenue for the period in the dataset? "
   ]
  },
  {
   "cell_type": "code",
   "execution_count": 143,
   "id": "a395f32c",
   "metadata": {},
   "outputs": [
    {
     "name": "stdout",
     "output_type": "stream",
     "text": [
      "Revenue was: $39237.02\n"
     ]
    }
   ],
   "source": [
    "revenue = (chipo['quantity']* chipo['item_price']).sum()\n",
    "print('Revenue was: $' + str(np.round(revenue,2)))"
   ]
  },
  {
   "cell_type": "markdown",
   "id": "64b0671f",
   "metadata": {},
   "source": [
    "Step 15. How many orders were made in the period? "
   ]
  },
  {
   "cell_type": "code",
   "execution_count": 144,
   "id": "aea1d385",
   "metadata": {},
   "outputs": [
    {
     "data": {
      "text/plain": [
       "1834"
      ]
     },
     "execution_count": 144,
     "metadata": {},
     "output_type": "execute_result"
    }
   ],
   "source": [
    "chipo.order_id.value_counts().count()"
   ]
  },
  {
   "cell_type": "code",
   "execution_count": null,
   "id": "86259012",
   "metadata": {},
   "outputs": [],
   "source": [
    "Step 16. What is the average revenue amount per order? "
   ]
  },
  {
   "cell_type": "code",
   "execution_count": 145,
   "id": "1e3ee4b4",
   "metadata": {},
   "outputs": [
    {
     "data": {
      "text/plain": [
       "21.394231188658654"
      ]
     },
     "execution_count": 145,
     "metadata": {},
     "output_type": "execute_result"
    }
   ],
   "source": [
    "chipo['revenue'] = chipo['quantity'] * chipo['item_price']\n",
    "chipo.groupby(by=['order_id']).sum().mean()['revenue']"
   ]
  },
  {
   "cell_type": "markdown",
   "id": "994926c2",
   "metadata": {},
   "source": [
    "Step 17. How many different items are sold? "
   ]
  },
  {
   "cell_type": "code",
   "execution_count": 146,
   "id": "3d2837be",
   "metadata": {},
   "outputs": [
    {
     "data": {
      "text/plain": [
       "50"
      ]
     },
     "execution_count": 146,
     "metadata": {},
     "output_type": "execute_result"
    }
   ],
   "source": [
    "chipo.item_name.value_counts().count()"
   ]
  },
  {
   "cell_type": "markdown",
   "id": "e29236e2",
   "metadata": {},
   "source": [
    "Question 6 \n",
    "Create a line plot showing the number of marriages and divorces per capita in the U.S. between 1867 and 2014. Label both lines and show the legend. Don't forget to label your axes! "
   ]
  },
  {
   "cell_type": "code",
   "execution_count": 147,
   "id": "67e551b1",
   "metadata": {},
   "outputs": [
    {
     "data": {
      "text/plain": [
       "<Figure size 432x288 with 0 Axes>"
      ]
     },
     "metadata": {},
     "output_type": "display_data"
    },
    {
     "data": {
      "image/png": "[encoded data removed]",
      "text/plain": [
       "<Figure size 432x288 with 1 Axes>"
      ]
     },
     "metadata": {
      "needs_background": "light"
     },
     "output_type": "display_data"
    }
   ],
   "source": [
    "import pandas as pd\n",
    "import matplotlib.pyplot as plt\n",
    "\n",
    "data = pd.read_csv('us-marriages-divorces-1867-2014.csv')\n",
    "\n",
    "plt.figure()\n",
    "data.plot(x = 'Year', y = ['Marriages_per_1000','Divorces_per_1000'],\n",
    "label = ['Marraiges' , 'Divorces'])\n",
    "plt.title('Marraiges & Divorces Per Capita', color = 'Darkblue', fontsize = 20)\n",
    "plt.xlabel('Year', color = 'Red', fontsize = 13)\n",
    "plt.ylabel('Capita', color = 'Red', fontsize = 13)\n",
    "plt.show()"
   ]
  },
  {
   "cell_type": "markdown",
   "id": "804921b1",
   "metadata": {},
   "source": [
    "Question 7 \n",
    "Create a vertical bar chart comparing the number of marriages and divorces per capita in the U.S. between 1900, 1950, and 2000. Don't forget to label your axes! "
   ]
  },
  {
   "cell_type": "code",
   "execution_count": 148,
   "id": "13a119d2",
   "metadata": {},
   "outputs": [
    {
     "data": {
      "text/html": [
       "<div>\n",
       "<style scoped>\n",
       "    .dataframe tbody tr th:only-of-type {\n",
       "        vertical-align: middle;\n",
       "    }\n",
       "\n",
       "    .dataframe tbody tr th {\n",
       "        vertical-align: top;\n",
       "    }\n",
       "\n",
       "    .dataframe thead th {\n",
       "        text-align: right;\n",
       "    }\n",
       "</style>\n",
       "<table border=\"1\" class=\"dataframe\">\n",
       "  <thead>\n",
       "    <tr style=\"text-align: right;\">\n",
       "      <th></th>\n",
       "      <th>Year</th>\n",
       "      <th>Marriages_per_1000</th>\n",
       "      <th>Divorces_per_1000</th>\n",
       "    </tr>\n",
       "  </thead>\n",
       "  <tbody>\n",
       "    <tr>\n",
       "      <th>33</th>\n",
       "      <td>1900</td>\n",
       "      <td>9.3</td>\n",
       "      <td>0.7</td>\n",
       "    </tr>\n",
       "    <tr>\n",
       "      <th>83</th>\n",
       "      <td>1950</td>\n",
       "      <td>11.0</td>\n",
       "      <td>2.5</td>\n",
       "    </tr>\n",
       "    <tr>\n",
       "      <th>133</th>\n",
       "      <td>2000</td>\n",
       "      <td>8.2</td>\n",
       "      <td>3.3</td>\n",
       "    </tr>\n",
       "  </tbody>\n",
       "</table>\n",
       "</div>"
      ],
      "text/plain": [
       "     Year  Marriages_per_1000  Divorces_per_1000\n",
       "33   1900                 9.3                0.7\n",
       "83   1950                11.0                2.5\n",
       "133  2000                 8.2                3.3"
      ]
     },
     "execution_count": 148,
     "metadata": {},
     "output_type": "execute_result"
    }
   ],
   "source": [
    "data = pd.read_csv('us-marriages-divorces-1867-2014.csv')\n",
    "newData = data.loc[data.Year.isin([1900,1950,2000]),['Year','Marriages_per_1000','Divorces_per_1000']]\n",
    "newData"
   ]
  },
  {
   "cell_type": "code",
   "execution_count": 150,
   "id": "21299d05",
   "metadata": {},
   "outputs": [
    {
     "name": "stderr",
     "output_type": "stream",
     "text": [
      "C:\\Users\\admin\\AppData\\Local\\Temp\\ipykernel_16116\\1961299336.py:1: FutureWarning: Passing a set as an indexer is deprecated and will raise in a future version. Use a list instead.\n",
      "  newData[{'Marriages_per_1000','Divorces_per_1000'}].plot.bar()\n"
     ]
    },
    {
     "data": {
      "text/plain": [
       "([<matplotlib.axis.XTick at 0x204083b4310>,\n",
       "  <matplotlib.axis.XTick at 0x204083b42e0>,\n",
       "  <matplotlib.axis.XTick at 0x204083da4f0>],\n",
       " [Text(0, 0, '1900'), Text(1, 0, '1950'), Text(2, 0, '2000')])"
      ]
     },
     "execution_count": 150,
     "metadata": {},
     "output_type": "execute_result"
    },
    {
     "data": {
      "image/png": "[encoded data removed]",
      "text/plain": [
       "<Figure size 432x288 with 1 Axes>"
      ]
     },
     "metadata": {
      "needs_background": "light"
     },
     "output_type": "display_data"
    }
   ],
   "source": [
    "newData[{'Marriages_per_1000','Divorces_per_1000'}].plot.bar()\n",
    "plt.title(\"Marriages and Divorces Per 1000\")\n",
    "plt.xlabel('Year', color = 'Blue')\n",
    "plt.ylabel('Capita', color = 'Blue')\n",
    "positions = (0,1,2)\n",
    "labels = (\"1900\", \"1950\", \"2000\")\n",
    "plt.xticks(positions, labels, rotation = 0)"
   ]
  },
  {
   "cell_type": "markdown",
   "id": "e95150fb",
   "metadata": {},
   "source": [
    "Question 8 \n",
    "Create a horizontal bar chart that compares the deadliest actors in Hollywood. Sort the actors by their kill count and label each bar with the corresponding actor's name. Don't forget to label your axes! "
   ]
  },
  {
   "cell_type": "code",
   "execution_count": 151,
   "id": "f7a7a05c",
   "metadata": {},
   "outputs": [
    {
     "data": {
      "text/plain": [
       "Text(0, 0.5, 'Actor')"
      ]
     },
     "execution_count": 151,
     "metadata": {},
     "output_type": "execute_result"
    },
    {
     "data": {
      "image/png": "[encoded data removed]",
      "text/plain": [
       "<Figure size 432x288 with 1 Axes>"
      ]
     },
     "metadata": {
      "needs_background": "light"
     },
     "output_type": "display_data"
    }
   ],
   "source": [
    "data = pd.read_csv('actor_kill_counts.csv')\n",
    "newData = data.sort_values(\"Count\", ascending = True)\n",
    "\n",
    "newData.plot.barh(x='Actor', y='Count')\n",
    "plt.title('Actors Kill Count')\n",
    "plt.xlabel('Count of kills')\n",
    "plt.ylabel('Actor')"
   ]
  },
  {
   "cell_type": "markdown",
   "id": "51d1e544",
   "metadata": {},
   "source": [
    "Question 9 \n",
    "Create a pie chart showing the fraction of all Roman Emperors that were assassinated.  Make sure that the pie chart is an even circle, labels the categories, and shows the percentage breakdown of the categories"
   ]
  },
  {
   "cell_type": "code",
   "execution_count": 152,
   "id": "5693e4d2",
   "metadata": {},
   "outputs": [
    {
     "data": {
      "text/plain": [
       "Text(0.5, 1.0, \"Roman Emperor's Cause of Death\")"
      ]
     },
     "execution_count": 152,
     "metadata": {},
     "output_type": "execute_result"
    },
    {
     "data": {
      "image/png": "[encoded data removed]",
      "text/plain": [
       "<Figure size 576x576 with 1 Axes>"
      ]
     },
     "metadata": {},
     "output_type": "display_data"
    }
   ],
   "source": [
    "data = pd.read_csv('roman-emperor-reigns.csv')\n",
    "\n",
    "import matplotlib.pyplot as plt\n",
    "import seaborn as sns\n",
    "%matplotlib inline\n",
    "sns.set()\n",
    "newdata = data.groupby(\"Cause_of_Death\")['Emperor'].count()\n",
    "\n",
    "newdata.plot.pie(autopct=\"%.1f%%\", figsize = (8,8) , fontsize = 15, ylabel = '', explode=[0.01]*8)\n",
    "plt.title(\"Roman Emperor's Cause of Death\", color = 'Lightblue', fontsize = 18, fontweight ='bold')"
   ]
  },
  {
   "cell_type": "markdown",
   "id": "3a8aa4c6",
   "metadata": {},
   "source": [
    "Question 10 \n",
    "Create a scatter plot showing the relationship between the total revenue earned by arcades and the number of Computer Science PhDs awarded in the U.S. between 2000 and 2009. "
   ]
  },
  {
   "cell_type": "code",
   "execution_count": 153,
   "id": "8009646b",
   "metadata": {},
   "outputs": [
    {
     "data": {
      "text/plain": [
       "Text(0, 0.5, 'CS Doctorates Awarded')"
      ]
     },
     "execution_count": 153,
     "metadata": {},
     "output_type": "execute_result"
    },
    {
     "data": {
      "image/png": "[encoded data removed]",
      "text/plain": [
       "<Figure size 360x288 with 1 Axes>"
      ]
     },
     "metadata": {
      "needs_background": "light"
     },
     "output_type": "display_data"
    }
   ],
   "source": [
    "data = pd.read_csv('arcade-revenue-vs-cs-doctorates.csv')\n",
    "\n",
    "import matplotlib.pyplot as plt\n",
    "%matplotlib inline\n",
    "\n",
    "colours = ['#C4E57D','#2AC280','#FFAE39','#DC5B3B','#52E397','#C5CBA3','#9CD5F6','#6E50D9','#9A5E59','#9BC8F5']\n",
    "\n",
    "data.plot.scatter(x='Total Arcade Revenue (billions)',\n",
    "\n",
    "y='Computer Science Doctorates Awarded (US)', c=colours , s = 50, figsize = (5,4))\n",
    "\n",
    "plt.title('Revenue Vs CS Doctorates', color = 'Blue', fontsize = 18)\n",
    "plt.xlabel('Total Arcade Revenue (billions)' , color = 'Red', fontsize = 12)\n",
    "plt.ylabel('CS Doctorates Awarded', color = 'Red', fontsize = 12)"
   ]
  },
  {
   "cell_type": "code",
   "execution_count": 155,
   "id": "2500a17b",
   "metadata": {},
   "outputs": [
    {
     "data": {
      "text/plain": [
       "Text(0, 0.5, 'CS Doctorates Awarded')"
      ]
     },
     "execution_count": 155,
     "metadata": {},
     "output_type": "execute_result"
    },
    {
     "data": {
      "image/png": "[encoded data removed]",
      "text/plain": [
       "<Figure size 432x288 with 2 Axes>"
      ]
     },
     "metadata": {
      "needs_background": "light"
     },
     "output_type": "display_data"
    }
   ],
   "source": [
    "data.plot.scatter(x='Total Arcade Revenue (billions)',\n",
    "y='Computer Science Doctorates Awarded (US)', c='Year' , s = 50)\n",
    "plt.title('Revenue Vs CS Doctorates', color = 'Blue', fontsize = 18)\n",
    "plt.xlabel('Total Arcade Revenue (billions)' , color = 'Red', fontsize = 12)\n",
    "plt.ylabel('CS Doctorates Awarded', color = 'Red', fontsize = 12)"
   ]
  },
  {
   "cell_type": "code",
   "execution_count": null,
   "id": "16b0949d",
   "metadata": {},
   "outputs": [],
   "source": []
  }
 ],
 "metadata": {
  "kernelspec": {
   "display_name": "Python 3 (ipykernel)",
   "language": "python",
   "name": "python3"
  },
  "language_info": {
   "codemirror_mode": {
    "name": "ipython",
    "version": 3
   },
   "file_extension": ".py",
   "mimetype": "text/x-python",
   "name": "python",
   "nbconvert_exporter": "python",
   "pygments_lexer": "ipython3",
   "version": "3.9.12"
  }
 },
 "nbformat": 4,
 "nbformat_minor": 5
}
