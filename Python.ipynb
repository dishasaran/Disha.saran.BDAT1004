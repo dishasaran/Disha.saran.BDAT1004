{
 "cells": [
  {
   "cell_type": "code",
   "execution_count": 1,
   "id": "768907e5",
   "metadata": {},
   "outputs": [
    {
     "name": "stdout",
     "output_type": "stream",
     "text": [
      "Enter here \n",
      "Disha\n",
      "ishaay\n"
     ]
    }
   ],
   "source": [
    "#Question 6\n",
    "def pig():\n",
    "    print(\"Enter here \");\n",
    "    s = input();\n",
    "    volwel = [\"a\", \"e\", \"i\", \"o\", \"u\", \"A\", \"E\", \"I\", \"O\", \"U\"]\n",
    "    for x in volwel:\n",
    "        if x in s[0]:\n",
    "            add = s + \"way\"\n",
    "            print(add[1:].lower());\n",
    "            break\n",
    "        else:\n",
    "            Add = s + \"ay\"\n",
    "            print(Add[1:].lower());\n",
    "            break\n",
    "pig()"
   ]
  },
  {
   "cell_type": "code",
   "execution_count": 3,
   "id": "0a90dbdf",
   "metadata": {},
   "outputs": [
    {
     "name": "stdout",
     "output_type": "stream",
     "text": [
      "There are 13 patients of AB blood type\n",
      "There are 28 patients of A blood type\n",
      "There are 14 patients of B blood type\n",
      "There are 15 patients of B blood type\n",
      "There are 0 patients of OO blood type\n"
     ]
    }
   ],
   "source": [
    "#Question 7\n",
    "def bldcount(filename):\n",
    "    bldgrps = []\n",
    "    with open(filename) as f:\n",
    "        bldgrps = f.readlines()\n",
    "    for x in bldgrps:\n",
    "        print(\"There are\",x.count(\"AB\"),\"patients of AB blood type\")\n",
    "        print(\"There are\",x.count(\"A\"),\"patients of A blood type\")\n",
    "        print(\"There are\",x.count(\"B\"),\"patients of B blood type\")\n",
    "        print(\"There are\",x.count(\"O\"),\"patients of B blood type\")\n",
    "        print(\"There are\",x.count(\"OO\"),\"patients of OO blood type\")\n",
    "\n",
    "bldcount(\"bloodtype.txt.txt\")"
   ]
  },
  {
   "cell_type": "code",
   "execution_count": 34,
   "id": "1afd208a",
   "metadata": {},
   "outputs": [
    {
     "data": {
      "text/plain": [
       "122.96544"
      ]
     },
     "execution_count": 34,
     "metadata": {},
     "output_type": "execute_result"
    }
   ],
   "source": [
    "#Question 8\n",
    "with open(\"currencies.txt\", 'r') as f:\n",
    "    d2 = dict()\n",
    "    d1 = f.readlines()\n",
    "    for x in d1:\n",
    "        currency = x[0:3]\n",
    "        value = x[4:13]\n",
    "        d2.update({currency:value})\n",
    "        \n",
    "def concur(curr, amt):\n",
    "    amount = float(d2.get(curr))\n",
    "    return amount*amt\n",
    "concur('EUR', 100)\n",
    "        \n",
    "        \n",
    "     "
   ]
  },
  {
   "cell_type": "markdown",
   "id": "d95e4e96",
   "metadata": {},
   "source": [
    "Question 9\n",
    "c = 'a' + 6 #cannot concatenate string and int\n",
    "d = [1,2,3,3,345,5,7,7,4,2] #Index out of range\n",
    "print(math.sqrt(-1.0)) #math domain error if we import math otherwise math not defined\n",
    "print(y) #y not defined\n",
    "f = open(\"currency.txt\")#No such file or directory: 'currency.txt'\n"
   ]
  },
  {
   "cell_type": "code",
   "execution_count": 7,
   "id": "a07d7eb5",
   "metadata": {},
   "outputs": [
    {
     "name": "stdout",
     "output_type": "stream",
     "text": [
      "{'T': 1, 'h': 2, 'e': 5, ' ': 8, 'q': 1, 'u': 1, 'i': 1, 'c': 1, 'k': 1, 'r': 2, 'd': 3, 'f': 1, 'o': 4, 'x': 1, 'g': 1, 't': 2, 'b': 1, 'a': 1, 'n': 2, 'w': 1, 'm': 1}\n"
     ]
    }
   ],
   "source": [
    "#Question 10\n",
    "def frequency(str):\n",
    "    d1 = dict()\n",
    "    for c in str:\n",
    "        if c in d1:\n",
    "            d1[c] = d1[c] + 1\n",
    "        else:\n",
    "            d1[c] = 1\n",
    "    print(d1)\n",
    "    \n",
    "frequency(\"The quick red fox got bored and went home\")\n"
   ]
  },
  {
   "cell_type": "code",
   "execution_count": null,
   "id": "c28f273c",
   "metadata": {},
   "outputs": [],
   "source": []
  },
  {
   "cell_type": "code",
   "execution_count": null,
   "id": "24243688",
   "metadata": {},
   "outputs": [],
   "source": []
  }
 ],
 "metadata": {
  "kernelspec": {
   "display_name": "Python 3 (ipykernel)",
   "language": "python",
   "name": "python3"
  },
  "language_info": {
   "codemirror_mode": {
    "name": "ipython",
    "version": 3
   },
   "file_extension": ".py",
   "mimetype": "text/x-python",
   "name": "python",
   "nbconvert_exporter": "python",
   "pygments_lexer": "ipython3",
   "version": "3.9.12"
  }
 },
 "nbformat": 4,
 "nbformat_minor": 5
}
